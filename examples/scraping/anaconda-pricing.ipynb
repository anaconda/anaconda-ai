{
 "cells": [
  {
   "cell_type": "code",
   "execution_count": 1,
   "id": "c24fd7e1-6c67-408a-96cf-be5411b74228",
   "metadata": {
    "execution": {
     "iopub.execute_input": "2025-01-30T15:12:26.305798Z",
     "iopub.status.busy": "2025-01-30T15:12:26.305354Z",
     "iopub.status.idle": "2025-01-30T15:12:26.326076Z",
     "shell.execute_reply": "2025-01-30T15:12:26.325078Z",
     "shell.execute_reply.started": "2025-01-30T15:12:26.305774Z"
    }
   },
   "outputs": [],
   "source": [
    "import nest_asyncio\n",
    "\n",
    "nest_asyncio.apply()"
   ]
  },
  {
   "cell_type": "code",
   "execution_count": 2,
   "id": "3ad72e23-086c-4161-a4fd-d47fc56dd3fa",
   "metadata": {
    "execution": {
     "iopub.execute_input": "2025-01-30T15:13:41.193737Z",
     "iopub.status.busy": "2025-01-30T15:13:41.192198Z",
     "iopub.status.idle": "2025-01-30T15:13:54.190006Z",
     "shell.execute_reply": "2025-01-30T15:13:54.188595Z",
     "shell.execute_reply.started": "2025-01-30T15:13:41.193681Z"
    }
   },
   "outputs": [],
   "source": [
    "from anaconda_models.langchain import AnacondaQuantizedModelChat\n",
    "\n",
    "model = AnacondaQuantizedModelChat(\n",
    "    model_name=\"Mistral-7b-Instruct-v0.2\", quantization=\"q4_k_m\"\n",
    ")"
   ]
  },
  {
   "cell_type": "code",
   "execution_count": 3,
   "id": "d529f75c-aaff-48d9-8e3e-0f9cd20d23d0",
   "metadata": {
    "execution": {
     "iopub.execute_input": "2025-01-30T15:15:08.018334Z",
     "iopub.status.busy": "2025-01-30T15:15:08.017162Z",
     "iopub.status.idle": "2025-01-30T15:16:49.557086Z",
     "shell.execute_reply": "2025-01-30T15:16:49.556413Z",
     "shell.execute_reply.started": "2025-01-30T15:15:08.018297Z"
    }
   },
   "outputs": [],
   "source": [
    "from parsera import Parsera\n",
    "\n",
    "url = \"https://anaconda.com/pricing\"\n",
    "elements = {\n",
    "    \"Teir\": \"Tier name\",\n",
    "    \"Storage\": \"Amount of available storage in GB\",\n",
    "    \"CPU\": \"Daily CPU-seconds quota\",\n",
    "    \"Price\": \"Monthly price in USD\",\n",
    "}\n",
    "\n",
    "scraper = Parsera(model=model)\n",
    "result = scraper.run(url=url, elements=elements, scrolls_limit=10)"
   ]
  },
  {
   "cell_type": "code",
   "execution_count": 4,
   "id": "588b66b4-b3e5-4e49-a0f5-3c5680cd205c",
   "metadata": {
    "execution": {
     "iopub.execute_input": "2025-01-30T15:16:55.733700Z",
     "iopub.status.busy": "2025-01-30T15:16:55.733060Z",
     "iopub.status.idle": "2025-01-30T15:17:06.190102Z",
     "shell.execute_reply": "2025-01-30T15:17:06.189850Z",
     "shell.execute_reply.started": "2025-01-30T15:16:55.733654Z"
    }
   },
   "outputs": [
    {
     "data": {
      "text/html": [
       "<div>\n",
       "<style scoped>\n",
       "    .dataframe tbody tr th:only-of-type {\n",
       "        vertical-align: middle;\n",
       "    }\n",
       "\n",
       "    .dataframe tbody tr th {\n",
       "        vertical-align: top;\n",
       "    }\n",
       "\n",
       "    .dataframe thead th {\n",
       "        text-align: right;\n",
       "    }\n",
       "</style>\n",
       "<table border=\"1\" class=\"dataframe\">\n",
       "  <thead>\n",
       "    <tr style=\"text-align: right;\">\n",
       "      <th></th>\n",
       "      <th>Teir</th>\n",
       "      <th>Storage</th>\n",
       "      <th>CPU</th>\n",
       "      <th>Price</th>\n",
       "    </tr>\n",
       "  </thead>\n",
       "  <tbody>\n",
       "    <tr>\n",
       "      <th>0</th>\n",
       "      <td>Free</td>\n",
       "      <td>100</td>\n",
       "      <td>1000</td>\n",
       "      <td>0</td>\n",
       "    </tr>\n",
       "    <tr>\n",
       "      <th>1</th>\n",
       "      <td>Starter</td>\n",
       "      <td>10</td>\n",
       "      <td>8000</td>\n",
       "      <td>15</td>\n",
       "    </tr>\n",
       "    <tr>\n",
       "      <th>2</th>\n",
       "      <td>Business</td>\n",
       "      <td>20</td>\n",
       "      <td>20000</td>\n",
       "      <td>50</td>\n",
       "    </tr>\n",
       "    <tr>\n",
       "      <th>3</th>\n",
       "      <td>Enterprise</td>\n",
       "      <td>Unlimited</td>\n",
       "      <td>Unlimited</td>\n",
       "      <td>Contact Sales</td>\n",
       "    </tr>\n",
       "  </tbody>\n",
       "</table>\n",
       "</div>"
      ],
      "text/plain": [
       "         Teir    Storage        CPU          Price\n",
       "0        Free        100       1000              0\n",
       "1     Starter         10       8000             15\n",
       "2    Business         20      20000             50\n",
       "3  Enterprise  Unlimited  Unlimited  Contact Sales"
      ]
     },
     "execution_count": 4,
     "metadata": {},
     "output_type": "execute_result"
    }
   ],
   "source": [
    "import pandas as pd\n",
    "\n",
    "df = pd.DataFrame(result)\n",
    "df"
   ]
  },
  {
   "cell_type": "code",
   "execution_count": null,
   "id": "ce7abb0d-842d-4067-ab08-2343d30f88a8",
   "metadata": {},
   "outputs": [],
   "source": []
  }
 ],
 "metadata": {
  "kernelspec": {
   "display_name": "Python 3 (ipykernel)",
   "language": "python",
   "name": "python3"
  },
  "language_info": {
   "codemirror_mode": {
    "name": "ipython",
    "version": 3
   },
   "file_extension": ".py",
   "mimetype": "text/x-python",
   "name": "python",
   "nbconvert_exporter": "python",
   "pygments_lexer": "ipython3",
   "version": "3.11.11"
  }
 },
 "nbformat": 4,
 "nbformat_minor": 5
}
