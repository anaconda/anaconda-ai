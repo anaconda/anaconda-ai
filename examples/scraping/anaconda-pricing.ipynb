{
 "cells": [
  {
   "cell_type": "code",
   "execution_count": 1,
   "id": "c24fd7e1-6c67-408a-96cf-be5411b74228",
   "metadata": {
    "execution": {
     "iopub.execute_input": "2025-03-18T14:55:10.973607Z",
     "iopub.status.busy": "2025-03-18T14:55:10.973145Z",
     "iopub.status.idle": "2025-03-18T14:55:10.984734Z",
     "shell.execute_reply": "2025-03-18T14:55:10.984246Z",
     "shell.execute_reply.started": "2025-03-18T14:55:10.973553Z"
    }
   },
   "outputs": [],
   "source": [
    "import nest_asyncio\n",
    "\n",
    "nest_asyncio.apply()"
   ]
  },
  {
   "cell_type": "code",
   "execution_count": null,
   "id": "3ad72e23-086c-4161-a4fd-d47fc56dd3fa",
   "metadata": {
    "execution": {
     "iopub.execute_input": "2025-03-18T15:00:26.414780Z",
     "iopub.status.busy": "2025-03-18T15:00:26.414420Z",
     "iopub.status.idle": "2025-03-18T15:00:28.627559Z",
     "shell.execute_reply": "2025-03-18T15:00:28.627132Z",
     "shell.execute_reply.started": "2025-03-18T15:00:26.414751Z"
    }
   },
   "outputs": [
    {
     "data": {
      "application/vnd.jupyter.widget-view+json": {
       "model_id": "fd461030619e43b8b1a252bcfc0e5f9c",
       "version_major": 2,
       "version_minor": 0
      },
      "text/plain": [
       "Output()"
      ]
     },
     "metadata": {},
     "output_type": "display_data"
    },
    {
     "data": {
      "text/html": [
       "<pre style=\"white-space:pre;overflow-x:auto;line-height:normal;font-family:Menlo,'DejaVu Sans Mono',consolas,'Courier New',monospace\"></pre>\n"
      ],
      "text/plain": []
     },
     "metadata": {},
     "output_type": "display_data"
    },
    {
     "data": {
      "text/html": [
       "<pre style=\"white-space:pre;overflow-x:auto;line-height:normal;font-family:Menlo,'DejaVu Sans Mono',consolas,'Courier New',monospace\"><span style=\"color: #008000; text-decoration-color: #008000; font-weight: bold\">✓</span> OpenHermes-2.5-Mistral-7B_Q4_K_M.gguf (running)\n",
       "</pre>\n"
      ],
      "text/plain": [
       "\u001b[1;32m✓\u001b[0m OpenHermes-2.5-Mistral-7B_Q4_K_M.gguf (running)\n"
      ]
     },
     "metadata": {},
     "output_type": "display_data"
    }
   ],
   "source": [
    "from anaconda_ai.langchain import AnacondaQuantizedModelChat\n",
    "\n",
    "model = AnacondaQuantizedModelChat(\n",
    "    model_name=\"OpenHermes-2.5-Mistral-7B/Q4_K_M\",\n",
    ")"
   ]
  },
  {
   "cell_type": "code",
   "execution_count": 3,
   "id": "d529f75c-aaff-48d9-8e3e-0f9cd20d23d0",
   "metadata": {
    "execution": {
     "iopub.execute_input": "2025-03-18T14:56:32.810573Z",
     "iopub.status.busy": "2025-03-18T14:56:32.810154Z",
     "iopub.status.idle": "2025-03-18T14:57:14.351575Z",
     "shell.execute_reply": "2025-03-18T14:57:14.351057Z",
     "shell.execute_reply.started": "2025-03-18T14:56:32.810543Z"
    }
   },
   "outputs": [],
   "source": [
    "from parsera import Parsera\n",
    "\n",
    "url = \"https://anaconda.com/pricing\"\n",
    "elements = {\n",
    "    \"Teir\": \"Tier name\",\n",
    "    \"Storage\": \"Amount of available storage in GB\",\n",
    "    \"CPU\": \"Daily CPU-seconds quota\",\n",
    "    \"Price\": \"Monthly price in USD\",\n",
    "}\n",
    "\n",
    "scraper = Parsera(model=model)\n",
    "result = scraper.run(url=url, elements=elements, scrolls_limit=10)"
   ]
  },
  {
   "cell_type": "code",
   "execution_count": 4,
   "id": "588b66b4-b3e5-4e49-a0f5-3c5680cd205c",
   "metadata": {
    "execution": {
     "iopub.execute_input": "2025-03-18T14:57:22.037108Z",
     "iopub.status.busy": "2025-03-18T14:57:22.036881Z",
     "iopub.status.idle": "2025-03-18T14:57:23.059158Z",
     "shell.execute_reply": "2025-03-18T14:57:23.058717Z",
     "shell.execute_reply.started": "2025-03-18T14:57:22.037095Z"
    }
   },
   "outputs": [
    {
     "data": {
      "text/html": [
       "<div>\n",
       "<style scoped>\n",
       "    .dataframe tbody tr th:only-of-type {\n",
       "        vertical-align: middle;\n",
       "    }\n",
       "\n",
       "    .dataframe tbody tr th {\n",
       "        vertical-align: top;\n",
       "    }\n",
       "\n",
       "    .dataframe thead th {\n",
       "        text-align: right;\n",
       "    }\n",
       "</style>\n",
       "<table border=\"1\" class=\"dataframe\">\n",
       "  <thead>\n",
       "    <tr style=\"text-align: right;\">\n",
       "      <th></th>\n",
       "      <th>Tier</th>\n",
       "      <th>Storage</th>\n",
       "      <th>CPU</th>\n",
       "      <th>Price</th>\n",
       "    </tr>\n",
       "  </thead>\n",
       "  <tbody>\n",
       "    <tr>\n",
       "      <th>0</th>\n",
       "      <td>Free</td>\n",
       "      <td>100MB</td>\n",
       "      <td>1K seconds daily</td>\n",
       "      <td>0 USD</td>\n",
       "    </tr>\n",
       "    <tr>\n",
       "      <th>1</th>\n",
       "      <td>Starter</td>\n",
       "      <td>5GB</td>\n",
       "      <td>8K seconds daily</td>\n",
       "      <td>15 USD</td>\n",
       "    </tr>\n",
       "    <tr>\n",
       "      <th>2</th>\n",
       "      <td>Business</td>\n",
       "      <td>20GB</td>\n",
       "      <td>20K seconds daily</td>\n",
       "      <td>50 USD</td>\n",
       "    </tr>\n",
       "    <tr>\n",
       "      <th>3</th>\n",
       "      <td>Enterprise</td>\n",
       "      <td>Unlimited</td>\n",
       "      <td>Unlimited</td>\n",
       "      <td>Contact Sales</td>\n",
       "    </tr>\n",
       "  </tbody>\n",
       "</table>\n",
       "</div>"
      ],
      "text/plain": [
       "         Tier    Storage                CPU          Price\n",
       "0        Free      100MB   1K seconds daily          0 USD\n",
       "1     Starter        5GB   8K seconds daily         15 USD\n",
       "2    Business       20GB  20K seconds daily         50 USD\n",
       "3  Enterprise  Unlimited          Unlimited  Contact Sales"
      ]
     },
     "execution_count": 4,
     "metadata": {},
     "output_type": "execute_result"
    }
   ],
   "source": [
    "import pandas as pd\n",
    "\n",
    "df = pd.DataFrame(result)\n",
    "df"
   ]
  },
  {
   "cell_type": "code",
   "execution_count": null,
   "id": "ce7abb0d-842d-4067-ab08-2343d30f88a8",
   "metadata": {},
   "outputs": [],
   "source": []
  }
 ],
 "metadata": {
  "kernelspec": {
   "display_name": "Python 3 (ipykernel)",
   "language": "python",
   "name": "python3"
  },
  "language_info": {
   "codemirror_mode": {
    "name": "ipython",
    "version": 3
   },
   "file_extension": ".py",
   "mimetype": "text/x-python",
   "name": "python",
   "nbconvert_exporter": "python",
   "pygments_lexer": "ipython3",
   "version": "3.10.16"
  }
 },
 "nbformat": 4,
 "nbformat_minor": 5
}
