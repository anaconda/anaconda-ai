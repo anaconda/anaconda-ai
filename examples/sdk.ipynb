{
 "cells": [
  {
   "cell_type": "code",
   "execution_count": 1,
   "metadata": {
    "execution": {
     "iopub.execute_input": "2025-04-03T21:10:54.206113Z",
     "iopub.status.busy": "2025-04-03T21:10:54.205937Z",
     "iopub.status.idle": "2025-04-03T21:10:54.598737Z",
     "shell.execute_reply": "2025-04-03T21:10:54.598451Z",
     "shell.execute_reply.started": "2025-04-03T21:10:54.206095Z"
    }
   },
   "outputs": [],
   "source": [
    "from anaconda_ai import get_default_client"
   ]
  },
  {
   "cell_type": "code",
   "execution_count": 2,
   "metadata": {
    "execution": {
     "iopub.execute_input": "2025-04-03T21:10:54.599198Z",
     "iopub.status.busy": "2025-04-03T21:10:54.599066Z",
     "iopub.status.idle": "2025-04-03T21:10:54.607063Z",
     "shell.execute_reply": "2025-04-03T21:10:54.606690Z",
     "shell.execute_reply.started": "2025-04-03T21:10:54.599187Z"
    }
   },
   "outputs": [],
   "source": [
    "c = get_default_client()"
   ]
  },
  {
   "cell_type": "code",
   "execution_count": 3,
   "metadata": {
    "execution": {
     "iopub.execute_input": "2025-04-03T21:10:54.607737Z",
     "iopub.status.busy": "2025-04-03T21:10:54.607611Z",
     "iopub.status.idle": "2025-04-03T21:10:55.171804Z",
     "shell.execute_reply": "2025-04-03T21:10:55.170882Z",
     "shell.execute_reply.started": "2025-04-03T21:10:54.607727Z"
    }
   },
   "outputs": [
    {
     "data": {
      "text/plain": [
       "'OpenELM-1_1B'"
      ]
     },
     "execution_count": 3,
     "metadata": {},
     "output_type": "execute_result"
    }
   ],
   "source": [
    "models = c.models.list()\n",
    "models[5].name"
   ]
  },
  {
   "cell_type": "code",
   "execution_count": 4,
   "metadata": {
    "execution": {
     "iopub.execute_input": "2025-04-03T21:10:55.926828Z",
     "iopub.status.busy": "2025-04-03T21:10:55.926061Z",
     "iopub.status.idle": "2025-04-03T21:10:56.230661Z",
     "shell.execute_reply": "2025-04-03T21:10:56.230028Z",
     "shell.execute_reply.started": "2025-04-03T21:10:55.926791Z"
    }
   },
   "outputs": [
    {
     "data": {
      "text/plain": [
       "4368450656"
      ]
     },
     "execution_count": 4,
     "metadata": {},
     "output_type": "execute_result"
    }
   ],
   "source": [
    "model = c.models.get(\"openhermes-2.5-mistral-7b\")\n",
    "model.get_quantization(\"Q4_K_M\").sizeBytes"
   ]
  },
  {
   "cell_type": "code",
   "execution_count": 5,
   "metadata": {
    "execution": {
     "iopub.execute_input": "2025-04-03T21:10:57.888835Z",
     "iopub.status.busy": "2025-04-03T21:10:57.888039Z",
     "iopub.status.idle": "2025-04-03T21:10:58.502041Z",
     "shell.execute_reply": "2025-04-03T21:10:58.500686Z",
     "shell.execute_reply.started": "2025-04-03T21:10:57.888794Z"
    }
   },
   "outputs": [
    {
     "data": {
      "text/plain": [
       "Server(id=UUID('5d0341b6-fbb0-463c-b7ea-c2dfbb16f5b8'), serverConfig=ServerConfig(modelFileName='OpenHermes-2.5-Mistral-7B_Q4_K_M.gguf', apiParams=APIParams(host='localhost', port=11434, api_key=None, log_disable=None, mmproj=None, timeout=None, verbose=None, n_gpu_layers=None, main_gpu=None, metrics=None), loadParams=LoadParams(batch_size=None, cont_batching=None, ctx_size=None, main_gpu=None, memory_f32=None, mlock=None, n_gpu_layers=None, rope_freq_base=None, rope_freq_scale=None, seed=None, tensor_split=None, use_mmap=None, embedding=None), inferParams=InferParams(threads=None, n_predict=None, top_k=None, top_p=None, min_p=None, repeat_last=None, repeat_penalty=None, temp=None, parallel=None), logsDir='./logs'), api_key='empty', url='http://localhost:11434', openai_url='http://localhost:11434/v1')"
      ]
     },
     "execution_count": 5,
     "metadata": {},
     "output_type": "execute_result"
    }
   ],
   "source": [
    "server = c.servers.create(\"openhermes-2.5-mistral-7b/q4_k_m\")\n",
    "server"
   ]
  },
  {
   "cell_type": "code",
   "execution_count": 6,
   "metadata": {
    "execution": {
     "iopub.execute_input": "2025-04-03T21:11:02.197506Z",
     "iopub.status.busy": "2025-04-03T21:11:02.196807Z",
     "iopub.status.idle": "2025-04-03T21:11:02.215724Z",
     "shell.execute_reply": "2025-04-03T21:11:02.215031Z",
     "shell.execute_reply.started": "2025-04-03T21:11:02.197470Z"
    }
   },
   "outputs": [
    {
     "data": {
      "text/html": [
       "<pre style=\"white-space:pre;overflow-x:auto;line-height:normal;font-family:Menlo,'DejaVu Sans Mono',consolas,'Courier New',monospace\"></pre>\n"
      ],
      "text/plain": []
     },
     "metadata": {},
     "output_type": "display_data"
    },
    {
     "data": {
      "text/html": [
       "<pre style=\"white-space:pre;overflow-x:auto;line-height:normal;font-family:Menlo,'DejaVu Sans Mono',consolas,'Courier New',monospace\"><span style=\"color: #008000; text-decoration-color: #008000; font-weight: bold\">✓</span> OpenHermes-2.5-Mistral-7B_Q4_K_M.gguf (running)\n",
       "</pre>\n"
      ],
      "text/plain": [
       "\u001b[1;32m✓\u001b[0m OpenHermes-2.5-Mistral-7B_Q4_K_M.gguf (running)\n"
      ]
     },
     "metadata": {},
     "output_type": "display_data"
    }
   ],
   "source": [
    "server.start(show_progress=True)"
   ]
  },
  {
   "cell_type": "code",
   "execution_count": 7,
   "metadata": {
    "execution": {
     "iopub.execute_input": "2025-04-03T21:11:04.805819Z",
     "iopub.status.busy": "2025-04-03T21:11:04.805074Z",
     "iopub.status.idle": "2025-04-03T21:11:04.869487Z",
     "shell.execute_reply": "2025-04-03T21:11:04.869069Z",
     "shell.execute_reply.started": "2025-04-03T21:11:04.805781Z"
    }
   },
   "outputs": [],
   "source": [
    "client = server.openai_client()"
   ]
  },
  {
   "cell_type": "code",
   "execution_count": 8,
   "metadata": {
    "execution": {
     "iopub.execute_input": "2025-04-03T21:11:07.072795Z",
     "iopub.status.busy": "2025-04-03T21:11:07.072035Z",
     "iopub.status.idle": "2025-04-03T21:11:13.054006Z",
     "shell.execute_reply": "2025-04-03T21:11:13.053358Z",
     "shell.execute_reply.started": "2025-04-03T21:11:07.072757Z"
    }
   },
   "outputs": [
    {
     "name": "stdout",
     "output_type": "stream",
     "text": [
      "Pi (π or pie) is a mathematical constant that represents the ratio of a circle's circumference to its diameter. Its value is approximately 3.14159, but it can be calculated to many more digits. Pi is an irrational number, which means it has an infinite number of digits and does not follow a predictable pattern.\n"
     ]
    }
   ],
   "source": [
    "res = client.chat.completions.create(\n",
    "    messages=[{\"role\": \"user\", \"content\": \"What is pi?\"}],\n",
    "    model=server.serverConfig.modelFileName,\n",
    ")\n",
    "print(res.choices[0].message.content)"
   ]
  },
  {
   "cell_type": "code",
   "execution_count": null,
   "metadata": {},
   "outputs": [],
   "source": []
  }
 ],
 "metadata": {
  "kernelspec": {
   "display_name": "Python 3 (ipykernel)",
   "language": "python",
   "name": "python3"
  },
  "language_info": {
   "codemirror_mode": {
    "name": "ipython",
    "version": 3
   },
   "file_extension": ".py",
   "mimetype": "text/x-python",
   "name": "python",
   "nbconvert_exporter": "python",
   "pygments_lexer": "ipython3",
   "version": "3.9.21"
  }
 },
 "nbformat": 4,
 "nbformat_minor": 4
}
