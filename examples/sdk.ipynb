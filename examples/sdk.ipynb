{
 "cells": [
  {
   "cell_type": "code",
   "execution_count": 1,
   "metadata": {
    "execution": {
     "iopub.execute_input": "2025-02-18T03:44:00.552773Z",
     "iopub.status.busy": "2025-02-18T03:44:00.552225Z",
     "iopub.status.idle": "2025-02-18T03:44:00.981013Z",
     "shell.execute_reply": "2025-02-18T03:44:00.980676Z",
     "shell.execute_reply.started": "2025-02-18T03:44:00.552735Z"
    }
   },
   "outputs": [],
   "source": [
    "from anaconda_models.client import AINavigatorClient"
   ]
  },
  {
   "cell_type": "code",
   "execution_count": 2,
   "metadata": {
    "execution": {
     "iopub.execute_input": "2025-02-18T03:44:01.428699Z",
     "iopub.status.busy": "2025-02-18T03:44:01.427720Z",
     "iopub.status.idle": "2025-02-18T03:44:12.896656Z",
     "shell.execute_reply": "2025-02-18T03:44:12.896076Z",
     "shell.execute_reply.started": "2025-02-18T03:44:01.428672Z"
    }
   },
   "outputs": [
    {
     "data": {
      "text/html": [
       "<pre style=\"white-space:pre;overflow-x:auto;line-height:normal;font-family:Menlo,'DejaVu Sans Mono',consolas,'Courier New',monospace\">Paste the AI Navigator API key here: </pre>\n"
      ],
      "text/plain": [
       "Paste the AI Navigator API key here: "
      ]
     },
     "metadata": {},
     "output_type": "display_data"
    },
    {
     "name": "stdin",
     "output_type": "stream",
     "text": [
      " ········\n"
     ]
    },
    {
     "name": "stdout",
     "output_type": "stream",
     "text": [
      "AI Navigator API Key saved in /Users/adefusco/.anaconda/config.toml\n"
     ]
    }
   ],
   "source": [
    "a = AINavigatorClient()"
   ]
  },
  {
   "cell_type": "code",
   "execution_count": 3,
   "metadata": {
    "execution": {
     "iopub.execute_input": "2025-02-18T03:44:18.257689Z",
     "iopub.status.busy": "2025-02-18T03:44:18.257273Z",
     "iopub.status.idle": "2025-02-18T03:44:18.765292Z",
     "shell.execute_reply": "2025-02-18T03:44:18.765019Z",
     "shell.execute_reply.started": "2025-02-18T03:44:18.257673Z"
    }
   },
   "outputs": [
    {
     "data": {
      "text/plain": [
       "'OpenELM-1_1B'"
      ]
     },
     "execution_count": 3,
     "metadata": {},
     "output_type": "execute_result"
    }
   ],
   "source": [
    "models = a.models.list()\n",
    "models[5].name"
   ]
  },
  {
   "cell_type": "code",
   "execution_count": 4,
   "metadata": {
    "execution": {
     "iopub.execute_input": "2025-02-18T03:44:19.388789Z",
     "iopub.status.busy": "2025-02-18T03:44:19.388382Z",
     "iopub.status.idle": "2025-02-18T03:44:19.481496Z",
     "shell.execute_reply": "2025-02-18T03:44:19.481173Z",
     "shell.execute_reply.started": "2025-02-18T03:44:19.388761Z"
    }
   },
   "outputs": [
    {
     "data": {
      "text/plain": [
       "[Evaluation(name='truthful_qa', value=32),\n",
       " Evaluation(name='hellaswag', value=84),\n",
       " Evaluation(name='winogrande', value=78.2178)]"
      ]
     },
     "execution_count": 4,
     "metadata": {},
     "output_type": "execute_result"
    }
   ],
   "source": [
    "model = a.models.get(\"openhermes-2.5-mistral-7b\")\n",
    "model.quantizations[\"Q4_K_M\"].evaluations"
   ]
  },
  {
   "cell_type": "code",
   "execution_count": 5,
   "metadata": {
    "execution": {
     "iopub.execute_input": "2025-02-18T03:44:20.414448Z",
     "iopub.status.busy": "2025-02-18T03:44:20.413967Z",
     "iopub.status.idle": "2025-02-18T03:44:20.498320Z",
     "shell.execute_reply": "2025-02-18T03:44:20.498057Z",
     "shell.execute_reply.started": "2025-02-18T03:44:20.414413Z"
    }
   },
   "outputs": [
    {
     "data": {
      "text/plain": [
       "{'id': UUID('5e209da2-133f-4285-9943-4ce52d8eaf5c'),\n",
       " 'createdAt': datetime.datetime(2025, 2, 18, 3, 44, 20, 494000, tzinfo=TzInfo(UTC)),\n",
       " 'startImmediately': False,\n",
       " 'serverConfig': {'modelFileName': PosixPath('OpenHermes-2.5-Mistral-7B_Q4_K_M.gguf'),\n",
       "  'apiParams': {'host': '127.0.0.1', 'port': 51691},\n",
       "  'loadParams': {},\n",
       "  'inferParams': {},\n",
       "  'logsDir': './logs'},\n",
       " 'api_key': 'empty',\n",
       " 'url': 'http://127.0.0.1:51691',\n",
       " 'openai_url': 'http://127.0.0.1:51691/v1'}"
      ]
     },
     "execution_count": 5,
     "metadata": {},
     "output_type": "execute_result"
    }
   ],
   "source": [
    "server = a.servers.create(\n",
    "    \"openhermes-2.5-mistral-7b/q4_k_m\"\n",
    ")  # Multiple model-quantization string styles supports\n",
    "server.model_dump()"
   ]
  },
  {
   "cell_type": "code",
   "execution_count": 10,
   "metadata": {
    "execution": {
     "iopub.execute_input": "2025-02-18T03:44:48.563285Z",
     "iopub.status.busy": "2025-02-18T03:44:48.562706Z",
     "iopub.status.idle": "2025-02-18T03:44:48.571626Z",
     "shell.execute_reply": "2025-02-18T03:44:48.571092Z",
     "shell.execute_reply.started": "2025-02-18T03:44:48.563244Z"
    }
   },
   "outputs": [
    {
     "data": {
      "text/plain": [
       "{'id': UUID('5e209da2-133f-4285-9943-4ce52d8eaf5c'),\n",
       " 'host': '127.0.0.1',\n",
       " 'port': 51691,\n",
       " 'status': 'running',\n",
       " 'startedAt': datetime.datetime(2025, 2, 18, 3, 44, 24, 58000, tzinfo=TzInfo(UTC))}"
      ]
     },
     "execution_count": 10,
     "metadata": {},
     "output_type": "execute_result"
    }
   ],
   "source": [
    "status = a.servers.start(server)  # Or just pass UUID\n",
    "status.model_dump()"
   ]
  },
  {
   "cell_type": "code",
   "execution_count": 11,
   "metadata": {
    "execution": {
     "iopub.execute_input": "2025-02-18T03:44:50.182312Z",
     "iopub.status.busy": "2025-02-18T03:44:50.182120Z",
     "iopub.status.idle": "2025-02-18T03:44:50.199470Z",
     "shell.execute_reply": "2025-02-18T03:44:50.199162Z",
     "shell.execute_reply.started": "2025-02-18T03:44:50.182296Z"
    }
   },
   "outputs": [],
   "source": [
    "client = server.openai_client()"
   ]
  },
  {
   "cell_type": "code",
   "execution_count": 12,
   "metadata": {
    "execution": {
     "iopub.execute_input": "2025-02-18T03:44:51.604712Z",
     "iopub.status.busy": "2025-02-18T03:44:51.604104Z",
     "iopub.status.idle": "2025-02-18T03:44:54.906722Z",
     "shell.execute_reply": "2025-02-18T03:44:54.906329Z",
     "shell.execute_reply.started": "2025-02-18T03:44:51.604674Z"
    }
   },
   "outputs": [
    {
     "name": "stdout",
     "output_type": "stream",
     "text": [
      "Pi (π) is a mathematical constant that represents the ratio of a circle's circumference to its diameter. Its value is approximately 3.14159, but it continues infinitely without any discernible pattern. Pi is an irrational number, meaning it cannot be expressed as a simple fraction. It plays a crucial role in various mathematical formulas and is widely used in geometry, trigonometry, and calculus.\n"
     ]
    }
   ],
   "source": [
    "res = client.chat.completions.create(\n",
    "    messages=[{\"role\": \"user\", \"content\": \"What is pi?\"}],\n",
    "    model=server.serverConfig.modelFileName.name,\n",
    ")\n",
    "print(res.choices[0].message.content)"
   ]
  },
  {
   "cell_type": "code",
   "execution_count": null,
   "metadata": {},
   "outputs": [],
   "source": []
  }
 ],
 "metadata": {
  "kernelspec": {
   "display_name": "Python 3 (ipykernel)",
   "language": "python",
   "name": "python3"
  },
  "language_info": {
   "codemirror_mode": {
    "name": "ipython",
    "version": 3
   },
   "file_extension": ".py",
   "mimetype": "text/x-python",
   "name": "python",
   "nbconvert_exporter": "python",
   "pygments_lexer": "ipython3",
   "version": "3.10.16"
  }
 },
 "nbformat": 4,
 "nbformat_minor": 4
}
