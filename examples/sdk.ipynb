{
 "cells": [
  {
   "cell_type": "code",
   "execution_count": 1,
   "metadata": {
    "execution": {
     "iopub.execute_input": "2025-02-18T03:44:00.552773Z",
     "iopub.status.busy": "2025-02-18T03:44:00.552225Z",
     "iopub.status.idle": "2025-02-18T03:44:00.981013Z",
     "shell.execute_reply": "2025-02-18T03:44:00.980676Z",
     "shell.execute_reply.started": "2025-02-18T03:44:00.552735Z"
    }
   },
   "outputs": [],
   "source": [
    "from anaconda_ai import get_default_client"
   ]
  },
  {
   "cell_type": "code",
   "execution_count": 2,
   "metadata": {
    "execution": {
     "iopub.execute_input": "2025-02-18T03:44:01.428699Z",
     "iopub.status.busy": "2025-02-18T03:44:01.427720Z",
     "iopub.status.idle": "2025-02-18T03:44:12.896656Z",
     "shell.execute_reply": "2025-02-18T03:44:12.896076Z",
     "shell.execute_reply.started": "2025-02-18T03:44:01.428672Z"
    }
   },
   "outputs": [],
   "source": [
    "c = get_default_client()"
   ]
  },
  {
   "cell_type": "code",
   "execution_count": 3,
   "metadata": {
    "execution": {
     "iopub.execute_input": "2025-02-18T03:44:18.257689Z",
     "iopub.status.busy": "2025-02-18T03:44:18.257273Z",
     "iopub.status.idle": "2025-02-18T03:44:18.765292Z",
     "shell.execute_reply": "2025-02-18T03:44:18.765019Z",
     "shell.execute_reply.started": "2025-02-18T03:44:18.257673Z"
    }
   },
   "outputs": [
    {
     "data": {
      "text/plain": [
       "'OpenELM-1_1B'"
      ]
     },
     "execution_count": 3,
     "metadata": {},
     "output_type": "execute_result"
    }
   ],
   "source": [
    "models = c.models.list()\n",
    "models[5].name"
   ]
  },
  {
   "cell_type": "code",
   "execution_count": 7,
   "metadata": {
    "execution": {
     "iopub.execute_input": "2025-02-18T03:44:19.388789Z",
     "iopub.status.busy": "2025-02-18T03:44:19.388382Z",
     "iopub.status.idle": "2025-02-18T03:44:19.481496Z",
     "shell.execute_reply": "2025-02-18T03:44:19.481173Z",
     "shell.execute_reply.started": "2025-02-18T03:44:19.388761Z"
    }
   },
   "outputs": [
    {
     "data": {
      "text/plain": [
       "4368450656"
      ]
     },
     "execution_count": 7,
     "metadata": {},
     "output_type": "execute_result"
    }
   ],
   "source": [
    "model = c.models.get(\"openhermes-2.5-mistral-7b\")\n",
    "model.get_quantization(\"Q4_K_M\").sizeBytes"
   ]
  },
  {
   "cell_type": "code",
   "execution_count": 14,
   "metadata": {
    "execution": {
     "iopub.execute_input": "2025-02-18T03:44:20.414448Z",
     "iopub.status.busy": "2025-02-18T03:44:20.413967Z",
     "iopub.status.idle": "2025-02-18T03:44:20.498320Z",
     "shell.execute_reply": "2025-02-18T03:44:20.498057Z",
     "shell.execute_reply.started": "2025-02-18T03:44:20.414413Z"
    }
   },
   "outputs": [
    {
     "data": {
      "text/plain": [
       "Server(id=UUID('87e73850-857e-4e8e-a0d4-6f89c76e8bb4'), serverConfig=ServerConfig(modelFileName='OpenHermes-2.5-Mistral-7B_Q4_K_M.gguf', apiParams=APIParams(host='127.0.0.1', port=58126, api_key=None, log_disable=None, mmproj=None, timeout=None, verbose=None, n_gpu_layers=None, main_gpu=None, metrics=None), loadParams=LoadParams(batch_size=None, cont_batching=None, ctx_size=0, main_gpu=None, memory_f32=None, mlock=None, n_gpu_layers=None, rope_freq_base=None, rope_freq_scale=None, seed=None, tensor_split=None, use_mmap=None, embedding=None), inferParams=InferParams(threads=None, n_predict=None, top_k=None, top_p=None, min_p=None, repeat_last=None, repeat_penalty=None, temp=None, parallel=None), logsDir='./logs'), api_key='empty', url='http://127.0.0.1:58126', openai_url='http://127.0.0.1:58126/v1')"
      ]
     },
     "execution_count": 14,
     "metadata": {},
     "output_type": "execute_result"
    }
   ],
   "source": [
    "server = c.servers.create(\"openhermes-2.5-mistral-7b/q4_k_m\")\n",
    "server"
   ]
  },
  {
   "cell_type": "code",
   "execution_count": 13,
   "metadata": {
    "execution": {
     "iopub.execute_input": "2025-02-18T03:44:48.563285Z",
     "iopub.status.busy": "2025-02-18T03:44:48.562706Z",
     "iopub.status.idle": "2025-02-18T03:44:48.571626Z",
     "shell.execute_reply": "2025-02-18T03:44:48.571092Z",
     "shell.execute_reply.started": "2025-02-18T03:44:48.563244Z"
    }
   },
   "outputs": [
    {
     "data": {
      "text/html": [
       "<pre style=\"white-space:pre;overflow-x:auto;line-height:normal;font-family:Menlo,'DejaVu Sans Mono',consolas,'Courier New',monospace\"></pre>\n"
      ],
      "text/plain": []
     },
     "metadata": {},
     "output_type": "display_data"
    },
    {
     "data": {
      "text/html": [
       "<pre style=\"white-space:pre;overflow-x:auto;line-height:normal;font-family:Menlo,'DejaVu Sans Mono',consolas,'Courier New',monospace\"><span style=\"color: #008000; text-decoration-color: #008000; font-weight: bold\">✓</span> OpenHermes-2.5-Mistral-7B_Q4_K_M.gguf (running)\n",
       "</pre>\n"
      ],
      "text/plain": [
       "\u001b[1;32m✓\u001b[0m OpenHermes-2.5-Mistral-7B_Q4_K_M.gguf (running)\n"
      ]
     },
     "metadata": {},
     "output_type": "display_data"
    }
   ],
   "source": [
    "server.start(show_progress=True)"
   ]
  },
  {
   "cell_type": "code",
   "execution_count": 10,
   "metadata": {
    "execution": {
     "iopub.execute_input": "2025-02-18T03:44:50.182312Z",
     "iopub.status.busy": "2025-02-18T03:44:50.182120Z",
     "iopub.status.idle": "2025-02-18T03:44:50.199470Z",
     "shell.execute_reply": "2025-02-18T03:44:50.199162Z",
     "shell.execute_reply.started": "2025-02-18T03:44:50.182296Z"
    }
   },
   "outputs": [],
   "source": [
    "client = server.openai_client()"
   ]
  },
  {
   "cell_type": "code",
   "execution_count": 12,
   "metadata": {
    "execution": {
     "iopub.execute_input": "2025-02-18T03:44:51.604712Z",
     "iopub.status.busy": "2025-02-18T03:44:51.604104Z",
     "iopub.status.idle": "2025-02-18T03:44:54.906722Z",
     "shell.execute_reply": "2025-02-18T03:44:54.906329Z",
     "shell.execute_reply.started": "2025-02-18T03:44:51.604674Z"
    }
   },
   "outputs": [
    {
     "name": "stdout",
     "output_type": "stream",
     "text": [
      "Pi (π) is a mathematical constant that represents the ratio of a circle's circumference to its diameter. It is an irrational number, which means its decimal representation goes on infinitely without repeating. Pi is approximately equal to 3.14159.\n"
     ]
    }
   ],
   "source": [
    "res = client.chat.completions.create(\n",
    "    messages=[{\"role\": \"user\", \"content\": \"What is pi?\"}],\n",
    "    model=server.serverConfig.modelFileName,\n",
    ")\n",
    "print(res.choices[0].message.content)"
   ]
  },
  {
   "cell_type": "code",
   "execution_count": null,
   "metadata": {},
   "outputs": [],
   "source": []
  }
 ],
 "metadata": {
  "kernelspec": {
   "display_name": "Python 3",
   "language": "python",
   "name": "python3"
  },
  "language_info": {
   "codemirror_mode": {
    "name": "ipython",
    "version": 3
   },
   "file_extension": ".py",
   "mimetype": "text/x-python",
   "name": "python",
   "nbconvert_exporter": "python",
   "pygments_lexer": "ipython3",
   "version": "3.9.21"
  }
 },
 "nbformat": 4,
 "nbformat_minor": 4
}
