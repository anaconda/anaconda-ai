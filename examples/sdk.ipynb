{
 "cells": [
  {
   "cell_type": "code",
   "execution_count": 1,
   "metadata": {
    "execution": {
     "iopub.execute_input": "2025-03-25T18:30:52.004625Z",
     "iopub.status.busy": "2025-03-25T18:30:52.004181Z",
     "iopub.status.idle": "2025-03-25T18:30:52.339151Z",
     "shell.execute_reply": "2025-03-25T18:30:52.338836Z",
     "shell.execute_reply.started": "2025-03-25T18:30:52.004590Z"
    }
   },
   "outputs": [],
   "source": [
    "from anaconda_ai import get_default_client"
   ]
  },
  {
   "cell_type": "code",
   "execution_count": 2,
   "metadata": {
    "execution": {
     "iopub.execute_input": "2025-03-25T18:30:52.340150Z",
     "iopub.status.busy": "2025-03-25T18:30:52.339890Z",
     "iopub.status.idle": "2025-03-25T18:30:52.347535Z",
     "shell.execute_reply": "2025-03-25T18:30:52.347214Z",
     "shell.execute_reply.started": "2025-03-25T18:30:52.340130Z"
    }
   },
   "outputs": [],
   "source": [
    "c = get_default_client()"
   ]
  },
  {
   "cell_type": "code",
   "execution_count": 3,
   "metadata": {
    "execution": {
     "iopub.execute_input": "2025-03-25T18:30:52.571256Z",
     "iopub.status.busy": "2025-03-25T18:30:52.570749Z",
     "iopub.status.idle": "2025-03-25T18:30:52.741040Z",
     "shell.execute_reply": "2025-03-25T18:30:52.740756Z",
     "shell.execute_reply.started": "2025-03-25T18:30:52.571220Z"
    }
   },
   "outputs": [
    {
     "data": {
      "text/plain": [
       "'OpenELM-1_1B'"
      ]
     },
     "execution_count": 3,
     "metadata": {},
     "output_type": "execute_result"
    }
   ],
   "source": [
    "models = c.models.list()\n",
    "models[5].name"
   ]
  },
  {
   "cell_type": "code",
   "execution_count": 4,
   "metadata": {
    "execution": {
     "iopub.execute_input": "2025-03-25T18:30:52.824393Z",
     "iopub.status.busy": "2025-03-25T18:30:52.823954Z",
     "iopub.status.idle": "2025-03-25T18:30:53.024474Z",
     "shell.execute_reply": "2025-03-25T18:30:53.024147Z",
     "shell.execute_reply.started": "2025-03-25T18:30:52.824359Z"
    }
   },
   "outputs": [
    {
     "data": {
      "text/plain": [
       "4368450656"
      ]
     },
     "execution_count": 4,
     "metadata": {},
     "output_type": "execute_result"
    }
   ],
   "source": [
    "model = c.models.get(\"openhermes-2.5-mistral-7b\")\n",
    "model.get_quantization(\"Q4_K_M\").sizeBytes"
   ]
  },
  {
   "cell_type": "code",
   "execution_count": 5,
   "metadata": {
    "execution": {
     "iopub.execute_input": "2025-03-25T18:30:53.585438Z",
     "iopub.status.busy": "2025-03-25T18:30:53.583952Z",
     "iopub.status.idle": "2025-03-25T18:30:53.767188Z",
     "shell.execute_reply": "2025-03-25T18:30:53.766906Z",
     "shell.execute_reply.started": "2025-03-25T18:30:53.585401Z"
    }
   },
   "outputs": [
    {
     "data": {
      "text/plain": [
       "Server(id=UUID('e0f664b4-cbda-4937-a0dc-a7656c66a72f'), serverConfig=ServerConfig(modelFileName='OpenHermes-2.5-Mistral-7B_Q4_K_M.gguf', apiParams=APIParams(host='127.0.0.1', port=53343, api_key=None, log_disable=None, mmproj=None, timeout=None, verbose=None, n_gpu_layers=None, main_gpu=None, metrics=None), loadParams=LoadParams(batch_size=None, cont_batching=None, ctx_size=0, main_gpu=None, memory_f32=None, mlock=None, n_gpu_layers=None, rope_freq_base=None, rope_freq_scale=None, seed=None, tensor_split=None, use_mmap=None, embedding=None), inferParams=InferParams(threads=None, n_predict=None, top_k=None, top_p=None, min_p=None, repeat_last=None, repeat_penalty=None, temp=None, parallel=None), logsDir='./logs'), api_key='empty', url='http://127.0.0.1:53343', openai_url='http://127.0.0.1:53343/v1')"
      ]
     },
     "execution_count": 5,
     "metadata": {},
     "output_type": "execute_result"
    }
   ],
   "source": [
    "server = c.servers.create(\"openhermes-2.5-mistral-7b/q4_k_m\")\n",
    "server"
   ]
  },
  {
   "cell_type": "code",
   "execution_count": 6,
   "metadata": {
    "execution": {
     "iopub.execute_input": "2025-03-25T18:30:54.897087Z",
     "iopub.status.busy": "2025-03-25T18:30:54.896386Z",
     "iopub.status.idle": "2025-03-25T18:30:56.668124Z",
     "shell.execute_reply": "2025-03-25T18:30:56.667698Z",
     "shell.execute_reply.started": "2025-03-25T18:30:54.897040Z"
    }
   },
   "outputs": [
    {
     "data": {
      "application/vnd.jupyter.widget-view+json": {
       "model_id": "2bc3a22ff15442258bf0c23cc25a2261",
       "version_major": 2,
       "version_minor": 0
      },
      "text/plain": [
       "Output()"
      ]
     },
     "metadata": {},
     "output_type": "display_data"
    },
    {
     "data": {
      "text/html": [
       "<pre style=\"white-space:pre;overflow-x:auto;line-height:normal;font-family:Menlo,'DejaVu Sans Mono',consolas,'Courier New',monospace\"></pre>\n"
      ],
      "text/plain": []
     },
     "metadata": {},
     "output_type": "display_data"
    },
    {
     "data": {
      "text/html": [
       "<pre style=\"white-space:pre;overflow-x:auto;line-height:normal;font-family:Menlo,'DejaVu Sans Mono',consolas,'Courier New',monospace\"><span style=\"color: #008000; text-decoration-color: #008000; font-weight: bold\">✓</span> OpenHermes-2.5-Mistral-7B_Q4_K_M.gguf (running)\n",
       "</pre>\n"
      ],
      "text/plain": [
       "\u001b[1;32m✓\u001b[0m OpenHermes-2.5-Mistral-7B_Q4_K_M.gguf (running)\n"
      ]
     },
     "metadata": {},
     "output_type": "display_data"
    }
   ],
   "source": [
    "server.start(show_progress=True)"
   ]
  },
  {
   "cell_type": "code",
   "execution_count": 7,
   "metadata": {
    "execution": {
     "iopub.execute_input": "2025-03-25T18:09:04.028806Z",
     "iopub.status.busy": "2025-03-25T18:09:04.028352Z",
     "iopub.status.idle": "2025-03-25T18:09:04.058701Z",
     "shell.execute_reply": "2025-03-25T18:09:04.058379Z",
     "shell.execute_reply.started": "2025-03-25T18:09:04.028779Z"
    }
   },
   "outputs": [],
   "source": [
    "client = server.openai_client()"
   ]
  },
  {
   "cell_type": "code",
   "execution_count": 8,
   "metadata": {
    "execution": {
     "iopub.execute_input": "2025-03-25T18:09:06.670615Z",
     "iopub.status.busy": "2025-03-25T18:09:06.669994Z",
     "iopub.status.idle": "2025-03-25T18:09:09.455917Z",
     "shell.execute_reply": "2025-03-25T18:09:09.454334Z",
     "shell.execute_reply.started": "2025-03-25T18:09:06.670582Z"
    }
   },
   "outputs": [
    {
     "name": "stdout",
     "output_type": "stream",
     "text": [
      "Pi (π) is a mathematical constant that represents the ratio of a circle's circumference to its diameter. Its value is approximately 3.14159, but it can be calculated to an almost infinite number of decimal places. Pi is an irrational number, which means its decimal representation never ends and does not repeat.\n"
     ]
    }
   ],
   "source": [
    "res = client.chat.completions.create(\n",
    "    messages=[{\"role\": \"user\", \"content\": \"What is pi?\"}],\n",
    "    model=server.serverConfig.modelFileName,\n",
    ")\n",
    "print(res.choices[0].message.content)"
   ]
  },
  {
   "cell_type": "code",
   "execution_count": null,
   "metadata": {},
   "outputs": [],
   "source": []
  }
 ],
 "metadata": {
  "kernelspec": {
   "display_name": "Python 3 (ipykernel)",
   "language": "python",
   "name": "python3"
  },
  "language_info": {
   "codemirror_mode": {
    "name": "ipython",
    "version": 3
   },
   "file_extension": ".py",
   "mimetype": "text/x-python",
   "name": "python",
   "nbconvert_exporter": "python",
   "pygments_lexer": "ipython3",
   "version": "3.9.21"
  }
 },
 "nbformat": 4,
 "nbformat_minor": 4
}
