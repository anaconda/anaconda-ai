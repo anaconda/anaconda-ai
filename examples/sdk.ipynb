{
 "cells": [
  {
   "cell_type": "code",
   "execution_count": 1,
   "metadata": {
    "execution": {
     "iopub.execute_input": "2025-04-08T21:53:01.921743Z",
     "iopub.status.busy": "2025-04-08T21:53:01.921589Z",
     "iopub.status.idle": "2025-04-08T21:53:02.356458Z",
     "shell.execute_reply": "2025-04-08T21:53:02.356153Z",
     "shell.execute_reply.started": "2025-04-08T21:53:01.921732Z"
    }
   },
   "outputs": [],
   "source": [
    "from anaconda_ai import get_default_client"
   ]
  },
  {
   "cell_type": "code",
   "execution_count": 2,
   "metadata": {
    "execution": {
     "iopub.execute_input": "2025-04-08T21:53:02.776696Z",
     "iopub.status.busy": "2025-04-08T21:53:02.776283Z",
     "iopub.status.idle": "2025-04-08T21:53:02.802860Z",
     "shell.execute_reply": "2025-04-08T21:53:02.802510Z",
     "shell.execute_reply.started": "2025-04-08T21:53:02.776668Z"
    }
   },
   "outputs": [],
   "source": [
    "c = get_default_client()"
   ]
  },
  {
   "cell_type": "code",
   "execution_count": 3,
   "metadata": {
    "execution": {
     "iopub.execute_input": "2025-04-08T21:53:03.392892Z",
     "iopub.status.busy": "2025-04-08T21:53:03.392448Z",
     "iopub.status.idle": "2025-04-08T21:53:03.682726Z",
     "shell.execute_reply": "2025-04-08T21:53:03.682467Z",
     "shell.execute_reply.started": "2025-04-08T21:53:03.392859Z"
    }
   },
   "outputs": [
    {
     "data": {
      "text/plain": [
       "'OpenELM-1_1B'"
      ]
     },
     "execution_count": 3,
     "metadata": {},
     "output_type": "execute_result"
    }
   ],
   "source": [
    "models = c.models.list()\n",
    "models[5].name"
   ]
  },
  {
   "cell_type": "code",
   "execution_count": 4,
   "metadata": {
    "execution": {
     "iopub.execute_input": "2025-04-08T21:53:04.281428Z",
     "iopub.status.busy": "2025-04-08T21:53:04.281020Z",
     "iopub.status.idle": "2025-04-08T21:53:04.520986Z",
     "shell.execute_reply": "2025-04-08T21:53:04.519013Z",
     "shell.execute_reply.started": "2025-04-08T21:53:04.281401Z"
    }
   },
   "outputs": [
    {
     "data": {
      "text/plain": [
       "4368450656"
      ]
     },
     "execution_count": 4,
     "metadata": {},
     "output_type": "execute_result"
    }
   ],
   "source": [
    "model = c.models.get(\"openhermes-2.5-mistral-7b\")\n",
    "model.get_quantization(\"Q4_K_M\").sizeBytes"
   ]
  },
  {
   "cell_type": "code",
   "execution_count": 5,
   "metadata": {
    "execution": {
     "iopub.execute_input": "2025-04-08T21:53:05.394229Z",
     "iopub.status.busy": "2025-04-08T21:53:05.393827Z",
     "iopub.status.idle": "2025-04-08T21:56:45.219715Z",
     "shell.execute_reply": "2025-04-08T21:56:45.218447Z",
     "shell.execute_reply.started": "2025-04-08T21:53:05.394202Z"
    }
   },
   "outputs": [
    {
     "data": {
      "application/vnd.jupyter.widget-view+json": {
       "model_id": "bf1aa653fa0449bca4b0025ba76573c1",
       "version_major": 2,
       "version_minor": 0
      },
      "text/plain": [
       "Output()"
      ]
     },
     "metadata": {},
     "output_type": "display_data"
    },
    {
     "data": {
      "text/html": [
       "<pre style=\"white-space:pre;overflow-x:auto;line-height:normal;font-family:Menlo,'DejaVu Sans Mono',consolas,'Courier New',monospace\"></pre>\n"
      ],
      "text/plain": []
     },
     "metadata": {},
     "output_type": "display_data"
    },
    {
     "data": {
      "text/plain": [
       "Server(id=UUID('02a366e6-c1e5-4935-bfb2-1649946e182f'), serverConfig=ServerConfig(modelFileName='OpenHermes-2.5-Mistral-7B_Q4_K_M.gguf', apiParams=APIParams(host='127.0.0.1', port=55803, api_key=None, log_disable=None, mmproj=None, timeout=None, verbose=None, n_gpu_layers=None, main_gpu=None, metrics=None), loadParams=LoadParams(batch_size=None, cont_batching=None, ctx_size=None, main_gpu=None, memory_f32=None, mlock=None, n_gpu_layers=None, rope_freq_base=None, rope_freq_scale=None, seed=None, tensor_split=None, use_mmap=None, embedding=None), inferParams=InferParams(threads=None, n_predict=None, top_k=None, top_p=None, min_p=None, repeat_last=None, repeat_penalty=None, temp=None, parallel=None), logsDir='./logs'), api_key='empty', url='http://127.0.0.1:55803', openai_url='http://127.0.0.1:55803/v1')"
      ]
     },
     "execution_count": 5,
     "metadata": {},
     "output_type": "execute_result"
    }
   ],
   "source": [
    "server = c.servers.create(\"openhermes-2.5-mistral-7b/q4_k_m\")\n",
    "server"
   ]
  },
  {
   "cell_type": "code",
   "execution_count": 6,
   "metadata": {
    "execution": {
     "iopub.execute_input": "2025-04-08T21:56:47.104442Z",
     "iopub.status.busy": "2025-04-08T21:56:47.104009Z",
     "iopub.status.idle": "2025-04-08T21:56:47.848959Z",
     "shell.execute_reply": "2025-04-08T21:56:47.848569Z",
     "shell.execute_reply.started": "2025-04-08T21:56:47.104414Z"
    }
   },
   "outputs": [
    {
     "data": {
      "application/vnd.jupyter.widget-view+json": {
       "model_id": "1597293a9c094dc28a01a04f3d9b672f",
       "version_major": 2,
       "version_minor": 0
      },
      "text/plain": [
       "Output()"
      ]
     },
     "metadata": {},
     "output_type": "display_data"
    },
    {
     "data": {
      "text/html": [
       "<pre style=\"white-space:pre;overflow-x:auto;line-height:normal;font-family:Menlo,'DejaVu Sans Mono',consolas,'Courier New',monospace\"></pre>\n"
      ],
      "text/plain": []
     },
     "metadata": {},
     "output_type": "display_data"
    },
    {
     "data": {
      "text/html": [
       "<pre style=\"white-space:pre;overflow-x:auto;line-height:normal;font-family:Menlo,'DejaVu Sans Mono',consolas,'Courier New',monospace\"><span style=\"color: #008000; text-decoration-color: #008000; font-weight: bold\">✓</span> OpenHermes-2.5-Mistral-7B_Q4_K_M.gguf (running)\n",
       "</pre>\n"
      ],
      "text/plain": [
       "\u001b[1;32m✓\u001b[0m OpenHermes-2.5-Mistral-7B_Q4_K_M.gguf (running)\n"
      ]
     },
     "metadata": {},
     "output_type": "display_data"
    }
   ],
   "source": [
    "server.start(show_progress=True)"
   ]
  },
  {
   "cell_type": "code",
   "execution_count": 7,
   "metadata": {
    "execution": {
     "iopub.execute_input": "2025-04-08T21:56:49.466235Z",
     "iopub.status.busy": "2025-04-08T21:56:49.465844Z",
     "iopub.status.idle": "2025-04-08T21:56:49.519275Z",
     "shell.execute_reply": "2025-04-08T21:56:49.518935Z",
     "shell.execute_reply.started": "2025-04-08T21:56:49.466208Z"
    }
   },
   "outputs": [],
   "source": [
    "client = server.openai_client()"
   ]
  },
  {
   "cell_type": "code",
   "execution_count": 8,
   "metadata": {
    "execution": {
     "iopub.execute_input": "2025-04-08T21:56:50.775361Z",
     "iopub.status.busy": "2025-04-08T21:56:50.774958Z",
     "iopub.status.idle": "2025-04-08T21:56:53.497186Z",
     "shell.execute_reply": "2025-04-08T21:56:53.494015Z",
     "shell.execute_reply.started": "2025-04-08T21:56:50.775331Z"
    }
   },
   "outputs": [
    {
     "name": "stdout",
     "output_type": "stream",
     "text": [
      "Pi (π) is a mathematical constant that represents the ratio of a circle's circumference to its diameter. Its value is approximately 3.14159, although it is an irrational number, meaning it goes on infinitely without repeating. It is a fundamental constant in mathematics and physics, used in various formulas and calculations.\n"
     ]
    }
   ],
   "source": [
    "res = client.chat.completions.create(\n",
    "    messages=[{\"role\": \"user\", \"content\": \"What is pi?\"}],\n",
    "    model=server.serverConfig.modelFileName,\n",
    ")\n",
    "print(res.choices[0].message.content)"
   ]
  },
  {
   "cell_type": "code",
   "execution_count": null,
   "metadata": {},
   "outputs": [],
   "source": []
  }
 ],
 "metadata": {
  "kernelspec": {
   "display_name": "Python 3 (ipykernel)",
   "language": "python",
   "name": "python3"
  },
  "language_info": {
   "codemirror_mode": {
    "name": "ipython",
    "version": 3
   },
   "file_extension": ".py",
   "mimetype": "text/x-python",
   "name": "python",
   "nbconvert_exporter": "python",
   "pygments_lexer": "ipython3",
   "version": "3.9.21"
  }
 },
 "nbformat": 4,
 "nbformat_minor": 4
}
