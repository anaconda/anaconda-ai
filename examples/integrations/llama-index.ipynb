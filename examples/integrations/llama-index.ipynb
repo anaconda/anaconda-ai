{
 "cells": [
  {
   "cell_type": "code",
   "execution_count": 1,
   "metadata": {
    "execution": {
     "iopub.execute_input": "2025-04-03T19:59:26.689543Z",
     "iopub.status.busy": "2025-04-03T19:59:26.689122Z",
     "iopub.status.idle": "2025-04-03T19:59:27.602050Z",
     "shell.execute_reply": "2025-04-03T19:59:27.601660Z",
     "shell.execute_reply.started": "2025-04-03T19:59:26.689516Z"
    }
   },
   "outputs": [],
   "source": [
    "from anaconda_ai.integrations.llama_index import AnacondaModel"
   ]
  },
  {
   "cell_type": "code",
   "execution_count": 4,
   "metadata": {
    "execution": {
     "iopub.execute_input": "2025-04-03T19:59:52.798697Z",
     "iopub.status.busy": "2025-04-03T19:59:52.797359Z",
     "iopub.status.idle": "2025-04-03T19:59:53.451769Z",
     "shell.execute_reply": "2025-04-03T19:59:53.450736Z",
     "shell.execute_reply.started": "2025-04-03T19:59:52.798646Z"
    }
   },
   "outputs": [
    {
     "data": {
      "text/html": [
       "<pre style=\"white-space:pre;overflow-x:auto;line-height:normal;font-family:Menlo,'DejaVu Sans Mono',consolas,'Courier New',monospace\"></pre>\n"
      ],
      "text/plain": []
     },
     "metadata": {},
     "output_type": "display_data"
    },
    {
     "data": {
      "text/html": [
       "<pre style=\"white-space:pre;overflow-x:auto;line-height:normal;font-family:Menlo,'DejaVu Sans Mono',consolas,'Courier New',monospace\"><span style=\"color: #008000; text-decoration-color: #008000; font-weight: bold\">✓</span> TinyLlama-1.1B-Chat-v1.0_Q4_K_M.gguf (running)\n",
       "</pre>\n"
      ],
      "text/plain": [
       "\u001b[1;32m✓\u001b[0m TinyLlama-1.1B-Chat-v1.0_Q4_K_M.gguf (running)\n"
      ]
     },
     "metadata": {},
     "output_type": "display_data"
    }
   ],
   "source": [
    "llm = AnacondaModel(model=\"TinyLlama-1.1B-Chat-v1.0/Q4_k_m\")"
   ]
  },
  {
   "cell_type": "code",
   "execution_count": 5,
   "metadata": {
    "execution": {
     "iopub.execute_input": "2025-04-03T19:59:58.411578Z",
     "iopub.status.busy": "2025-04-03T19:59:58.410714Z",
     "iopub.status.idle": "2025-04-03T20:00:01.598879Z",
     "shell.execute_reply": "2025-04-03T20:00:01.597693Z",
     "shell.execute_reply.started": "2025-04-03T19:59:58.411539Z"
    }
   },
   "outputs": [
    {
     "data": {
      "text/plain": [
       "CompletionResponse(text='Pi, also known as the mathematical constant π (pronounced \"pi\"), is a number that represents the ratio of circumference to diameter of a circle. It is defined as:\\n\\n1/4 * π * r^2 = 1\\nwhere r is the radius of the circle.\\n\\nThe value of pi is approximately 3.14159265358979323846264338327950288419716939937510582097494459230781640628620899862803482534259100562855332008978244581563184194398076923078164060869801852895507816159375.\\n\\nPi is used in various fields, including mathematics, physics, and engineering, where it is used to calculate a variety of things such as the circumference of a circle, the area of a sphere, and the velocity of sound. It is also used in many scientific and mathematical formulas, such as the formula for the volume of a cylinder or the formula for the surface area of a sphere.', additional_kwargs={}, raw=ChatCompletion(id='chatcmpl-901', choices=[Choice(finish_reason='stop', index=0, logprobs=None, message=ChatCompletionMessage(content='Pi, also known as the mathematical constant π (pronounced \"pi\"), is a number that represents the ratio of circumference to diameter of a circle. It is defined as:\\n\\n1/4 * π * r^2 = 1\\nwhere r is the radius of the circle.\\n\\nThe value of pi is approximately 3.14159265358979323846264338327950288419716939937510582097494459230781640628620899862803482534259100562855332008978244581563184194398076923078164060869801852895507816159375.\\n\\nPi is used in various fields, including mathematics, physics, and engineering, where it is used to calculate a variety of things such as the circumference of a circle, the area of a sphere, and the velocity of sound. It is also used in many scientific and mathematical formulas, such as the formula for the volume of a cylinder or the formula for the surface area of a sphere.', refusal=None, role='assistant', audio=None, function_call=None, tool_calls=None))], created=1743710401, model='TinyLlama-1.1B-Chat-v1.0_Q4_K_M.gguf', object='chat.completion', service_tier=None, system_fingerprint='fp_ollama', usage=CompletionUsage(completion_tokens=327, prompt_tokens=21, total_tokens=348, completion_tokens_details=None, prompt_tokens_details=None)), logprobs=None, delta=None)"
      ]
     },
     "execution_count": 5,
     "metadata": {},
     "output_type": "execute_result"
    }
   ],
   "source": [
    "llm.complete(\"what is pi?\")"
   ]
  },
  {
   "cell_type": "code",
   "execution_count": 6,
   "metadata": {
    "execution": {
     "iopub.execute_input": "2025-04-03T20:00:02.547152Z",
     "iopub.status.busy": "2025-04-03T20:00:02.546696Z",
     "iopub.status.idle": "2025-04-03T20:00:02.556697Z",
     "shell.execute_reply": "2025-04-03T20:00:02.555718Z",
     "shell.execute_reply.started": "2025-04-03T20:00:02.547125Z"
    }
   },
   "outputs": [
    {
     "data": {
      "text/plain": [
       "AnacondaLLMMetadata(context_window=2048, num_output=-1, is_chat_model=True, is_function_calling_model=False, model_name='TinyLlama-1.1B-Chat-v1.0_Q4_K_M.gguf', system_role=<MessageRole.SYSTEM: 'system'>, server_config={'apiParams': {'host': 'localhost', 'port': 11434}})"
      ]
     },
     "execution_count": 6,
     "metadata": {},
     "output_type": "execute_result"
    }
   ],
   "source": [
    "llm.metadata"
   ]
  },
  {
   "cell_type": "code",
   "execution_count": null,
   "metadata": {},
   "outputs": [],
   "source": []
  }
 ],
 "metadata": {
  "kernelspec": {
   "display_name": "Python 3 (ipykernel)",
   "language": "python",
   "name": "python3"
  },
  "language_info": {
   "codemirror_mode": {
    "name": "ipython",
    "version": 3
   },
   "file_extension": ".py",
   "mimetype": "text/x-python",
   "name": "python",
   "nbconvert_exporter": "python",
   "pygments_lexer": "ipython3",
   "version": "3.9.21"
  }
 },
 "nbformat": 4,
 "nbformat_minor": 4
}
