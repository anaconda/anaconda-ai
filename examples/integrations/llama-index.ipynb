{
 "cells": [
  {
   "cell_type": "code",
   "execution_count": 1,
   "metadata": {
    "execution": {
     "iopub.execute_input": "2025-04-08T21:59:52.978695Z",
     "iopub.status.busy": "2025-04-08T21:59:52.978277Z",
     "iopub.status.idle": "2025-04-08T21:59:54.198085Z",
     "shell.execute_reply": "2025-04-08T21:59:54.197777Z",
     "shell.execute_reply.started": "2025-04-08T21:59:52.978660Z"
    }
   },
   "outputs": [],
   "source": [
    "from anaconda_ai.integrations.llama_index import AnacondaModel"
   ]
  },
  {
   "cell_type": "code",
   "execution_count": 2,
   "metadata": {
    "execution": {
     "iopub.execute_input": "2025-04-08T21:59:54.677867Z",
     "iopub.status.busy": "2025-04-08T21:59:54.677215Z",
     "iopub.status.idle": "2025-04-08T21:59:55.753815Z",
     "shell.execute_reply": "2025-04-08T21:59:55.752953Z",
     "shell.execute_reply.started": "2025-04-08T21:59:54.677840Z"
    }
   },
   "outputs": [
    {
     "data": {
      "application/vnd.jupyter.widget-view+json": {
       "model_id": "5a423e906f5c48cf879d571eca26095b",
       "version_major": 2,
       "version_minor": 0
      },
      "text/plain": [
       "Output()"
      ]
     },
     "metadata": {},
     "output_type": "display_data"
    },
    {
     "data": {
      "text/html": [
       "<pre style=\"white-space:pre;overflow-x:auto;line-height:normal;font-family:Menlo,'DejaVu Sans Mono',consolas,'Courier New',monospace\"></pre>\n"
      ],
      "text/plain": []
     },
     "metadata": {},
     "output_type": "display_data"
    },
    {
     "data": {
      "text/html": [
       "<pre style=\"white-space:pre;overflow-x:auto;line-height:normal;font-family:Menlo,'DejaVu Sans Mono',consolas,'Courier New',monospace\"><span style=\"color: #008000; text-decoration-color: #008000; font-weight: bold\">✓</span> TinyLlama-1.1B-Chat-v1.0_Q4_K_M.gguf (running)\n",
       "</pre>\n"
      ],
      "text/plain": [
       "\u001b[1;32m✓\u001b[0m TinyLlama-1.1B-Chat-v1.0_Q4_K_M.gguf (running)\n"
      ]
     },
     "metadata": {},
     "output_type": "display_data"
    }
   ],
   "source": [
    "llm = AnacondaModel(model=\"TinyLlama-1.1B-Chat-v1.0/Q4_k_m\")"
   ]
  },
  {
   "cell_type": "code",
   "execution_count": 3,
   "metadata": {
    "execution": {
     "iopub.execute_input": "2025-04-08T21:59:56.342973Z",
     "iopub.status.busy": "2025-04-08T21:59:56.342078Z",
     "iopub.status.idle": "2025-04-08T21:59:59.458745Z",
     "shell.execute_reply": "2025-04-08T21:59:59.455598Z",
     "shell.execute_reply.started": "2025-04-08T21:59:56.342924Z"
    }
   },
   "outputs": [
    {
     "data": {
      "text/plain": [
       "CompletionResponse(text=\"Pi (π) is a mathematical constant that represents the ratio of a circle's circumference to its diameter. Its value is approximately 3.14159. Pi is an irrational number, meaning it cannot be expressed as a simple fraction and its decimal representation never ends or repeats. It is a fundamental constant in mathematics and has various applications in geometry, trigonometry, and physics.\", additional_kwargs={}, raw=ChatCompletion(id='chatcmpl-rqIeNUFr3lFYdrOjxmB39UZmeLELDfDZ', choices=[Choice(finish_reason='stop', index=0, logprobs=None, message=ChatCompletionMessage(content=\"Pi (π) is a mathematical constant that represents the ratio of a circle's circumference to its diameter. Its value is approximately 3.14159. Pi is an irrational number, meaning it cannot be expressed as a simple fraction and its decimal representation never ends or repeats. It is a fundamental constant in mathematics and has various applications in geometry, trigonometry, and physics.\", refusal=None, role='assistant', audio=None, function_call=None, tool_calls=None))], created=1744149599, model='OpenHermes-2.5-Mistral-7B_Q4_K_M.gguf', object='chat.completion', service_tier=None, system_fingerprint='b4578-d35af7061', usage=CompletionUsage(completion_tokens=86, prompt_tokens=14, total_tokens=100, completion_tokens_details=None, prompt_tokens_details=None), timings={'prompt_n': 14, 'prompt_ms': 166.143, 'prompt_per_token_ms': 11.867357142857143, 'prompt_per_second': 84.26475987552891, 'predicted_n': 86, 'predicted_ms': 2865.184, 'predicted_per_token_ms': 33.31609302325582, 'predicted_per_second': 30.015524308386475}), logprobs=None, delta=None)"
      ]
     },
     "execution_count": 3,
     "metadata": {},
     "output_type": "execute_result"
    }
   ],
   "source": [
    "llm.complete(\"what is pi?\")"
   ]
  },
  {
   "cell_type": "code",
   "execution_count": 4,
   "metadata": {
    "execution": {
     "iopub.execute_input": "2025-04-08T22:00:00.405127Z",
     "iopub.status.busy": "2025-04-08T22:00:00.404575Z",
     "iopub.status.idle": "2025-04-08T22:00:00.416988Z",
     "shell.execute_reply": "2025-04-08T22:00:00.416200Z",
     "shell.execute_reply.started": "2025-04-08T22:00:00.405094Z"
    }
   },
   "outputs": [
    {
     "data": {
      "text/plain": [
       "AnacondaLLMMetadata(context_window=32768, num_output=-1, is_chat_model=True, is_function_calling_model=False, model_name='OpenHermes-2.5-Mistral-7B_Q4_K_M.gguf', system_role=<MessageRole.SYSTEM: 'system'>, server_config={'apiParams': {'host': '127.0.0.1', 'port': 56537}})"
      ]
     },
     "execution_count": 4,
     "metadata": {},
     "output_type": "execute_result"
    }
   ],
   "source": [
    "llm.metadata"
   ]
  },
  {
   "cell_type": "code",
   "execution_count": null,
   "metadata": {},
   "outputs": [],
   "source": []
  }
 ],
 "metadata": {
  "kernelspec": {
   "display_name": "Python 3 (ipykernel)",
   "language": "python",
   "name": "python3"
  },
  "language_info": {
   "codemirror_mode": {
    "name": "ipython",
    "version": 3
   },
   "file_extension": ".py",
   "mimetype": "text/x-python",
   "name": "python",
   "nbconvert_exporter": "python",
   "pygments_lexer": "ipython3",
   "version": "3.9.21"
  }
 },
 "nbformat": 4,
 "nbformat_minor": 4
}
