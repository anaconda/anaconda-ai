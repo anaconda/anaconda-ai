{
 "cells": [
  {
   "cell_type": "code",
   "execution_count": 1,
   "metadata": {
    "execution": {
     "iopub.execute_input": "2025-03-25T19:01:58.143417Z",
     "iopub.status.busy": "2025-03-25T19:01:58.143055Z",
     "iopub.status.idle": "2025-03-25T19:01:59.415784Z",
     "shell.execute_reply": "2025-03-25T19:01:59.415462Z",
     "shell.execute_reply.started": "2025-03-25T19:01:58.143402Z"
    }
   },
   "outputs": [],
   "source": [
    "from anaconda_ai.integrations.llama_index import AnacondaModel"
   ]
  },
  {
   "cell_type": "code",
   "execution_count": 2,
   "metadata": {
    "execution": {
     "iopub.execute_input": "2025-03-25T19:01:59.416312Z",
     "iopub.status.busy": "2025-03-25T19:01:59.416155Z",
     "iopub.status.idle": "2025-03-25T19:02:02.614607Z",
     "shell.execute_reply": "2025-03-25T19:02:02.614112Z",
     "shell.execute_reply.started": "2025-03-25T19:01:59.416300Z"
    }
   },
   "outputs": [
    {
     "data": {
      "application/vnd.jupyter.widget-view+json": {
       "model_id": "afd7a9d9308c4130ab9e8ebe3d41412f",
       "version_major": 2,
       "version_minor": 0
      },
      "text/plain": [
       "Output()"
      ]
     },
     "metadata": {},
     "output_type": "display_data"
    },
    {
     "data": {
      "text/html": [
       "<pre style=\"white-space:pre;overflow-x:auto;line-height:normal;font-family:Menlo,'DejaVu Sans Mono',consolas,'Courier New',monospace\"></pre>\n"
      ],
      "text/plain": []
     },
     "metadata": {},
     "output_type": "display_data"
    },
    {
     "data": {
      "text/html": [
       "<pre style=\"white-space:pre;overflow-x:auto;line-height:normal;font-family:Menlo,'DejaVu Sans Mono',consolas,'Courier New',monospace\"><span style=\"color: #008000; text-decoration-color: #008000; font-weight: bold\">✓</span> OpenHermes-2.5-Mistral-7B_Q4_K_M.gguf (running)\n",
       "</pre>\n"
      ],
      "text/plain": [
       "\u001b[1;32m✓\u001b[0m OpenHermes-2.5-Mistral-7B_Q4_K_M.gguf (running)\n"
      ]
     },
     "metadata": {},
     "output_type": "display_data"
    }
   ],
   "source": [
    "llm = AnacondaModel(model=\"OpenHermes-2.5-Mistral-7B_Q4_K_M.gguf\")"
   ]
  },
  {
   "cell_type": "code",
   "execution_count": 3,
   "metadata": {
    "execution": {
     "iopub.execute_input": "2025-03-25T19:02:02.615443Z",
     "iopub.status.busy": "2025-03-25T19:02:02.615297Z",
     "iopub.status.idle": "2025-03-25T19:02:06.120826Z",
     "shell.execute_reply": "2025-03-25T19:02:06.119417Z",
     "shell.execute_reply.started": "2025-03-25T19:02:02.615429Z"
    }
   },
   "outputs": [
    {
     "data": {
      "text/plain": [
       "CompletionResponse(text=\"Pi (π) is a mathematical constant that represents the ratio of a circle's circumference to its diameter. Its value is approximately 3.14159, but it goes on infinitely without repeating. Pi is an irrational number, meaning it cannot be expressed as a simple fraction. It is a fundamental constant in mathematics and is used in various formulas and calculations, particularly in geometry and trigonometry.\", additional_kwargs={}, raw=ChatCompletion(id='chatcmpl-r7JQAhACrlzEZez7c3zjzNbtpRjU30dX', choices=[Choice(finish_reason='stop', index=0, logprobs=None, message=ChatCompletionMessage(content=\"Pi (π) is a mathematical constant that represents the ratio of a circle's circumference to its diameter. Its value is approximately 3.14159, but it goes on infinitely without repeating. Pi is an irrational number, meaning it cannot be expressed as a simple fraction. It is a fundamental constant in mathematics and is used in various formulas and calculations, particularly in geometry and trigonometry.\", refusal=None, role='assistant', audio=None, function_call=None, tool_calls=None))], created=1742929326, model='OpenHermes-2.5-Mistral-7B_Q4_K_M.gguf', object='chat.completion', service_tier=None, system_fingerprint='b4578-d35af7061', usage=CompletionUsage(completion_tokens=91, prompt_tokens=14, total_tokens=105, completion_tokens_details=None, prompt_tokens_details=None), timings={'prompt_n': 14, 'prompt_ms': 169.319, 'prompt_per_token_ms': 12.094214285714285, 'prompt_per_second': 82.68416421075013, 'predicted_n': 91, 'predicted_ms': 3265.337, 'predicted_per_token_ms': 35.882824175824176, 'predicted_per_second': 27.868486468624834}), logprobs=None, delta=None)"
      ]
     },
     "execution_count": 3,
     "metadata": {},
     "output_type": "execute_result"
    }
   ],
   "source": [
    "llm.complete(\"what is pi?\")"
   ]
  },
  {
   "cell_type": "code",
   "execution_count": null,
   "metadata": {},
   "outputs": [],
   "source": []
  }
 ],
 "metadata": {
  "kernelspec": {
   "display_name": "Python 3 (ipykernel)",
   "language": "python",
   "name": "python3"
  },
  "language_info": {
   "codemirror_mode": {
    "name": "ipython",
    "version": 3
   },
   "file_extension": ".py",
   "mimetype": "text/x-python",
   "name": "python",
   "nbconvert_exporter": "python",
   "pygments_lexer": "ipython3",
   "version": "3.9.21"
  }
 },
 "nbformat": 4,
 "nbformat_minor": 4
}
