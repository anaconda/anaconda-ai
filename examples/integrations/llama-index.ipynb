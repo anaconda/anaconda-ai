{
 "cells": [
  {
   "cell_type": "code",
   "execution_count": 1,
   "metadata": {},
   "outputs": [],
   "source": [
    "from anaconda_models.llama_index import AnacondaModel"
   ]
  },
  {
   "cell_type": "code",
   "execution_count": 2,
   "metadata": {},
   "outputs": [],
   "source": [
    "llm = AnacondaModel(model=\"OpenHermes-2.5-Mistral-7B_Q4_K_M.gguf\")"
   ]
  },
  {
   "cell_type": "code",
   "execution_count": 3,
   "metadata": {},
   "outputs": [
    {
     "data": {
      "text/plain": [
       "CompletionResponse(text=\"Pi (π) is a mathematical constant that represents the ratio of a circle's circumference to its diameter. Its value is approximately 3.14159, but it goes on infinitely without repeating. Pi is an irrational number, meaning it cannot be expressed as a simple fraction. It is a fundamental constant in mathematics and is used in various formulas and calculations, particularly in geometry and trigonometry.\", additional_kwargs={}, raw=ChatCompletion(id='chatcmpl-U2l2oRc6ztk4ZkDFx9vYL3k1ffPrwg3V', choices=[Choice(finish_reason='stop', index=0, logprobs=None, message=ChatCompletionMessage(content=\"Pi (π) is a mathematical constant that represents the ratio of a circle's circumference to its diameter. Its value is approximately 3.14159, but it goes on infinitely without repeating. Pi is an irrational number, meaning it cannot be expressed as a simple fraction. It is a fundamental constant in mathematics and is used in various formulas and calculations, particularly in geometry and trigonometry.\", refusal=None, role='assistant', audio=None, function_call=None, tool_calls=None))], created=1739888622, model='OpenHermes-2.5-Mistral-7B_Q4_K_M.gguf', object='chat.completion', service_tier=None, system_fingerprint='b4578-d35af7061', usage=CompletionUsage(completion_tokens=91, prompt_tokens=14, total_tokens=105, completion_tokens_details=None, prompt_tokens_details=None), timings={'prompt_n': 14, 'prompt_ms': 292.708, 'prompt_per_token_ms': 20.907714285714288, 'prompt_per_second': 47.82923596211924, 'predicted_n': 91, 'predicted_ms': 3021.465, 'predicted_per_token_ms': 33.20291208791209, 'predicted_per_second': 30.1178401867968}), logprobs=None, delta=None)"
      ]
     },
     "execution_count": 3,
     "metadata": {},
     "output_type": "execute_result"
    }
   ],
   "source": [
    "llm.complete(\"what is pi?\")"
   ]
  },
  {
   "cell_type": "code",
   "execution_count": null,
   "metadata": {},
   "outputs": [],
   "source": []
  }
 ],
 "metadata": {
  "kernelspec": {
   "display_name": "Python 3",
   "language": "python",
   "name": "python3"
  },
  "language_info": {
   "codemirror_mode": {
    "name": "ipython",
    "version": 3
   },
   "file_extension": ".py",
   "mimetype": "text/x-python",
   "name": "python",
   "nbconvert_exporter": "python",
   "pygments_lexer": "ipython3",
   "version": "3.10.16"
  }
 },
 "nbformat": 4,
 "nbformat_minor": 2
}
