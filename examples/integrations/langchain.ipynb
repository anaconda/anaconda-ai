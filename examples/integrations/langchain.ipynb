{
 "cells": [
  {
   "cell_type": "code",
   "execution_count": 1,
   "id": "92d6cb8e-babc-46cb-993b-5369b3979006",
   "metadata": {
    "execution": {
     "iopub.execute_input": "2025-04-03T20:12:23.597729Z",
     "iopub.status.busy": "2025-04-03T20:12:23.596773Z",
     "iopub.status.idle": "2025-04-03T20:12:24.261842Z",
     "shell.execute_reply": "2025-04-03T20:12:24.261543Z",
     "shell.execute_reply.started": "2025-04-03T20:12:23.597675Z"
    }
   },
   "outputs": [],
   "source": [
    "from anaconda_ai.integrations.langchain import AnacondaQuantizedModelChat\n",
    "from langchain_core.prompts import ChatPromptTemplate"
   ]
  },
  {
   "cell_type": "code",
   "execution_count": 2,
   "id": "7f66cb26-2445-4b8b-b224-5ff93e2722f3",
   "metadata": {
    "execution": {
     "iopub.execute_input": "2025-04-03T20:12:24.262637Z",
     "iopub.status.busy": "2025-04-03T20:12:24.262495Z",
     "iopub.status.idle": "2025-04-03T20:12:25.081177Z",
     "shell.execute_reply": "2025-04-03T20:12:25.080679Z",
     "shell.execute_reply.started": "2025-04-03T20:12:24.262627Z"
    }
   },
   "outputs": [
    {
     "data": {
      "text/html": [
       "<pre style=\"white-space:pre;overflow-x:auto;line-height:normal;font-family:Menlo,'DejaVu Sans Mono',consolas,'Courier New',monospace\"></pre>\n"
      ],
      "text/plain": []
     },
     "metadata": {},
     "output_type": "display_data"
    },
    {
     "data": {
      "text/html": [
       "<pre style=\"white-space:pre;overflow-x:auto;line-height:normal;font-family:Menlo,'DejaVu Sans Mono',consolas,'Courier New',monospace\"><span style=\"color: #008000; text-decoration-color: #008000; font-weight: bold\">✓</span> TinyLlama-1.1B-Chat-v1.0_Q4_K_M.gguf (running)\n",
       "</pre>\n"
      ],
      "text/plain": [
       "\u001b[1;32m✓\u001b[0m TinyLlama-1.1B-Chat-v1.0_Q4_K_M.gguf (running)\n"
      ]
     },
     "metadata": {},
     "output_type": "display_data"
    }
   ],
   "source": [
    "model = AnacondaQuantizedModelChat(model_name=\"TinyLlama-1.1B-Chat-v1.0/Q4_K_M\")"
   ]
  },
  {
   "cell_type": "code",
   "execution_count": 3,
   "id": "e1b36d30-ee2b-4e10-b625-87a0dd94b88b",
   "metadata": {
    "execution": {
     "iopub.execute_input": "2025-04-03T20:01:18.242833Z",
     "iopub.status.busy": "2025-04-03T20:01:18.242046Z",
     "iopub.status.idle": "2025-04-03T20:01:18.254555Z",
     "shell.execute_reply": "2025-04-03T20:01:18.253475Z",
     "shell.execute_reply.started": "2025-04-03T20:01:18.242797Z"
    }
   },
   "outputs": [],
   "source": [
    "prompt_template = \"\"\"\\\n",
    "You are a coding assistant.\n",
    "You will respond with only raw code, do not format the response as Markdown.\n",
    "Include type hints and docstring. Do not explain the generated code. Do not provide example uses.\n",
    "Write a Python function to {action}\n",
    "\"\"\"\n",
    "\n",
    "template = ChatPromptTemplate.from_template(prompt_template)"
   ]
  },
  {
   "cell_type": "code",
   "execution_count": 4,
   "id": "47caa289-d5f5-449d-97bf-217ba84100e6",
   "metadata": {
    "execution": {
     "iopub.execute_input": "2025-04-03T20:01:18.686002Z",
     "iopub.status.busy": "2025-04-03T20:01:18.685547Z",
     "iopub.status.idle": "2025-04-03T20:01:18.692735Z",
     "shell.execute_reply": "2025-04-03T20:01:18.690943Z",
     "shell.execute_reply.started": "2025-04-03T20:01:18.685974Z"
    }
   },
   "outputs": [],
   "source": [
    "chain = template | model"
   ]
  },
  {
   "cell_type": "code",
   "execution_count": 5,
   "id": "9b4ff01c-0034-4e50-b617-4aa6088b2dfa",
   "metadata": {
    "execution": {
     "iopub.execute_input": "2025-04-03T20:01:18.849629Z",
     "iopub.status.busy": "2025-04-03T20:01:18.848812Z",
     "iopub.status.idle": "2025-04-03T20:01:24.982500Z",
     "shell.execute_reply": "2025-04-03T20:01:24.982063Z",
     "shell.execute_reply.started": "2025-04-03T20:01:18.849589Z"
    }
   },
   "outputs": [],
   "source": [
    "result = chain.invoke(input={\"action\": \"convert timezone on an input datetime object\"})"
   ]
  },
  {
   "cell_type": "code",
   "execution_count": 6,
   "id": "0960b82d-51dc-470c-a5b3-050d5404d6ea",
   "metadata": {
    "execution": {
     "iopub.execute_input": "2025-04-03T20:01:27.312349Z",
     "iopub.status.busy": "2025-04-03T20:01:27.311887Z",
     "iopub.status.idle": "2025-04-03T20:01:27.321137Z",
     "shell.execute_reply": "2025-04-03T20:01:27.320012Z",
     "shell.execute_reply.started": "2025-04-03T20:01:27.312321Z"
    }
   },
   "outputs": [
    {
     "name": "stdout",
     "output_type": "stream",
     "text": [
      "Here is the Python function that meets the requirements:\n",
      "\n",
      "```python\n",
      "def convert_timezone(datetime: type) -> type:\n",
      "    \"\"\"\n",
      "    Convert the given datetime object to the desired time zone. Input type: \"datetime\"\n",
      "    \n",
      "    Example usage:\n",
      "      >>> input_dt = datetime.now().replace(tzinfo=utc)\n",
      "      >>> tz1_converted = convert_timezone(input_dt)\n",
      "      >>> # Output is same\n",
      "      >>> print(f'Format: {tensnake_datetime(tz1_converted)}')\n",
      "    \"\"\"\n",
      "    \n",
      "    # Define target timezone\n",
      "    utc = pytz.utc\n",
      "    tzname = input()\n",
      "    \n",
      "    # Get local time\n",
      "    now = datetime.now(timezone=utc)  # Convert to UTC timezone as input\n",
      "    local_dt = now.replace(tzinfo=utc).astimezone(pytz.timezone(tzname))  # Local time converted to target timezone\n",
      "    \n",
      "    return local_dt\n",
      "```\n",
      "\n",
      "Explanation:\n",
      "- The `convert_timezone` function takes a `datetime` object as input and converts it to the desired UTC time zone using pytz's timezone utility. If `utc` is passed, the datetime will be converted to UTC (with no error); otherwise, it will be converted to the specified target timezone defined by the value of `tzname`.\n",
      "- The `timezone=utc` argument is used to convert the local time from UTC to a datetime object in the same timezone. The actual conversion may differ based on the availability of the target UTC time zone in pytz and your Python installation, but in practice this function should always return a UTC datetime unless it's configured wrong or incorrectly specified.\n",
      "- To use the `convert_timezone` function, you can call it with an instant `datetime` object like so:\n",
      "  ```python\n",
      "  from datetime import now\n",
      "  tz1_converted = convert_timezone(now)\n",
      "  print(\"Format:\", tensnake_datetime(tz1_converted))\n",
      "  ```\n",
      "  This assumes that your local time zone has the following format according to strftime(\"%a, %d %b %Y,%I:%M%p\", loc=localtime): \"2021-04-30 18:59:23\". If not, you may need to adjust the UTC zone offset in your Python installation accordingly.\n",
      "\n",
      "Example usage:\n",
      "```python\n",
      ">>> now = datetime.now()\n",
      ">>> tz1_converted = convert_timezone(now)\n",
      ">>> print(\"Format:\", tensnake_datetime(tz1_converted)) # Output is same\n",
      ">>>\n",
      ">>> time_now = tensnake_datetime(now, tzname=\"US/Eastern\")\n",
      "```\n"
     ]
    },
    {
     "data": {
      "text/html": [
       "<pre style=\"white-space:pre;overflow-x:auto;line-height:normal;font-family:Menlo,'DejaVu Sans Mono',consolas,'Courier New',monospace\"></pre>\n"
      ],
      "text/plain": []
     },
     "metadata": {},
     "output_type": "display_data"
    },
    {
     "data": {
      "text/html": [
       "<pre style=\"white-space:pre;overflow-x:auto;line-height:normal;font-family:Menlo,'DejaVu Sans Mono',consolas,'Courier New',monospace\"><span style=\"color: #008000; text-decoration-color: #008000; font-weight: bold\">✓</span> TinyLlama-1.1B-Chat-v1.0_Q4_K_M.gguf (stopped)\n",
       "</pre>\n"
      ],
      "text/plain": [
       "\u001b[1;32m✓\u001b[0m TinyLlama-1.1B-Chat-v1.0_Q4_K_M.gguf (stopped)\n"
      ]
     },
     "metadata": {},
     "output_type": "display_data"
    }
   ],
   "source": [
    "print(result.content)"
   ]
  },
  {
   "cell_type": "code",
   "execution_count": null,
   "id": "17169974",
   "metadata": {},
   "outputs": [],
   "source": []
  }
 ],
 "metadata": {
  "kernelspec": {
   "display_name": "Python 3 (ipykernel)",
   "language": "python",
   "name": "python3"
  },
  "language_info": {
   "codemirror_mode": {
    "name": "ipython",
    "version": 3
   },
   "file_extension": ".py",
   "mimetype": "text/x-python",
   "name": "python",
   "nbconvert_exporter": "python",
   "pygments_lexer": "ipython3",
   "version": "3.9.21"
  }
 },
 "nbformat": 4,
 "nbformat_minor": 5
}
