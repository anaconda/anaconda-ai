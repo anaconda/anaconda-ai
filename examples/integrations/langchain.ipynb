{
 "cells": [
  {
   "cell_type": "code",
   "execution_count": 1,
   "id": "92d6cb8e-babc-46cb-993b-5369b3979006",
   "metadata": {
    "execution": {
     "iopub.execute_input": "2025-03-25T19:00:53.757806Z",
     "iopub.status.busy": "2025-03-25T19:00:53.757680Z",
     "iopub.status.idle": "2025-03-25T19:00:54.543585Z",
     "shell.execute_reply": "2025-03-25T19:00:54.543244Z",
     "shell.execute_reply.started": "2025-03-25T19:00:53.757796Z"
    }
   },
   "outputs": [],
   "source": [
    "from anaconda_ai.integrations.langchain import AnacondaQuantizedModelChat\n",
    "from langchain_core.prompts import ChatPromptTemplate"
   ]
  },
  {
   "cell_type": "code",
   "execution_count": 2,
   "id": "7f66cb26-2445-4b8b-b224-5ff93e2722f3",
   "metadata": {
    "execution": {
     "iopub.execute_input": "2025-03-25T19:00:54.544100Z",
     "iopub.status.busy": "2025-03-25T19:00:54.543965Z",
     "iopub.status.idle": "2025-03-25T19:00:58.707121Z",
     "shell.execute_reply": "2025-03-25T19:00:58.706673Z",
     "shell.execute_reply.started": "2025-03-25T19:00:54.544089Z"
    }
   },
   "outputs": [
    {
     "data": {
      "application/vnd.jupyter.widget-view+json": {
       "model_id": "6911a5c7ff424b729bfe697c604c8e24",
       "version_major": 2,
       "version_minor": 0
      },
      "text/plain": [
       "Output()"
      ]
     },
     "metadata": {},
     "output_type": "display_data"
    },
    {
     "data": {
      "text/html": [
       "<pre style=\"white-space:pre;overflow-x:auto;line-height:normal;font-family:Menlo,'DejaVu Sans Mono',consolas,'Courier New',monospace\"></pre>\n"
      ],
      "text/plain": []
     },
     "metadata": {},
     "output_type": "display_data"
    },
    {
     "data": {
      "text/html": [
       "<pre style=\"white-space:pre;overflow-x:auto;line-height:normal;font-family:Menlo,'DejaVu Sans Mono',consolas,'Courier New',monospace\"><span style=\"color: #008000; text-decoration-color: #008000; font-weight: bold\">✓</span> OpenHermes-2.5-Mistral-7B_Q4_K_M.gguf (running)\n",
       "</pre>\n"
      ],
      "text/plain": [
       "\u001b[1;32m✓\u001b[0m OpenHermes-2.5-Mistral-7B_Q4_K_M.gguf (running)\n"
      ]
     },
     "metadata": {},
     "output_type": "display_data"
    }
   ],
   "source": [
    "model = AnacondaQuantizedModelChat(model_name=\"openhermes-2.5-mistral-7b_q4_k_m\")"
   ]
  },
  {
   "cell_type": "code",
   "execution_count": 3,
   "id": "e1b36d30-ee2b-4e10-b625-87a0dd94b88b",
   "metadata": {
    "execution": {
     "iopub.execute_input": "2025-03-25T19:00:58.707756Z",
     "iopub.status.busy": "2025-03-25T19:00:58.707646Z",
     "iopub.status.idle": "2025-03-25T19:00:58.710578Z",
     "shell.execute_reply": "2025-03-25T19:00:58.710278Z",
     "shell.execute_reply.started": "2025-03-25T19:00:58.707744Z"
    }
   },
   "outputs": [],
   "source": [
    "prompt_template = \"\"\"\\\n",
    "You are a coding assistant.\n",
    "You will respond with only raw code, do not format the response as Markdown.\n",
    "Include type hints and docstring. Do not explain the generated code. Do not provide example uses.\n",
    "Write a Python function to {action}\n",
    "\"\"\"\n",
    "\n",
    "template = ChatPromptTemplate.from_template(prompt_template)"
   ]
  },
  {
   "cell_type": "code",
   "execution_count": 4,
   "id": "47caa289-d5f5-449d-97bf-217ba84100e6",
   "metadata": {
    "execution": {
     "iopub.execute_input": "2025-03-25T19:00:58.710976Z",
     "iopub.status.busy": "2025-03-25T19:00:58.710888Z",
     "iopub.status.idle": "2025-03-25T19:00:58.714805Z",
     "shell.execute_reply": "2025-03-25T19:00:58.714269Z",
     "shell.execute_reply.started": "2025-03-25T19:00:58.710967Z"
    }
   },
   "outputs": [],
   "source": [
    "chain = template | model"
   ]
  },
  {
   "cell_type": "code",
   "execution_count": 5,
   "id": "9b4ff01c-0034-4e50-b617-4aa6088b2dfa",
   "metadata": {
    "execution": {
     "iopub.execute_input": "2025-03-25T19:00:58.717037Z",
     "iopub.status.busy": "2025-03-25T19:00:58.716669Z",
     "iopub.status.idle": "2025-03-25T19:01:04.128084Z",
     "shell.execute_reply": "2025-03-25T19:01:04.127513Z",
     "shell.execute_reply.started": "2025-03-25T19:00:58.716998Z"
    }
   },
   "outputs": [],
   "source": [
    "result = chain.invoke(input={\"action\": \"convert timezone on an input datetime object\"})"
   ]
  },
  {
   "cell_type": "code",
   "execution_count": 6,
   "id": "0960b82d-51dc-470c-a5b3-050d5404d6ea",
   "metadata": {
    "execution": {
     "iopub.execute_input": "2025-03-25T19:01:04.130330Z",
     "iopub.status.busy": "2025-03-25T19:01:04.130164Z",
     "iopub.status.idle": "2025-03-25T19:01:04.133066Z",
     "shell.execute_reply": "2025-03-25T19:01:04.132463Z",
     "shell.execute_reply.started": "2025-03-25T19:01:04.130318Z"
    }
   },
   "outputs": [
    {
     "name": "stdout",
     "output_type": "stream",
     "text": [
      "```python\n",
      "from datetime import datetime\n",
      "from pytz import timezone\n",
      "\n",
      "def convert_timezone(dt: datetime, tz: str) -> datetime:\n",
      "    \"\"\"\n",
      "    Convert the timezone of a given datetime object.\n",
      "\n",
      "    :param dt: The datetime object to convert.\n",
      "    :type dt: datetime\n",
      "    :param tz: The target timezone to convert to.\n",
      "    :type tz: str\n",
      "    :return: The datetime object with the updated timezone.\n",
      "    :rtype: datetime\n",
      "    \"\"\"\n",
      "    return dt.replace(tzinfo=timezone(tz))\n",
      "```\n"
     ]
    }
   ],
   "source": [
    "print(result.content)"
   ]
  },
  {
   "cell_type": "code",
   "execution_count": null,
   "id": "17169974",
   "metadata": {},
   "outputs": [],
   "source": []
  }
 ],
 "metadata": {
  "kernelspec": {
   "display_name": "Python 3 (ipykernel)",
   "language": "python",
   "name": "python3"
  },
  "language_info": {
   "codemirror_mode": {
    "name": "ipython",
    "version": 3
   },
   "file_extension": ".py",
   "mimetype": "text/x-python",
   "name": "python",
   "nbconvert_exporter": "python",
   "pygments_lexer": "ipython3",
   "version": "3.9.21"
  }
 },
 "nbformat": 4,
 "nbformat_minor": 5
}
