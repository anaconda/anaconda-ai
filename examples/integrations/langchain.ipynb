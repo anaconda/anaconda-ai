{
 "cells": [
  {
   "cell_type": "code",
   "execution_count": 1,
   "id": "92d6cb8e-babc-46cb-993b-5369b3979006",
   "metadata": {
    "execution": {
     "iopub.execute_input": "2025-04-03T19:04:43.231725Z",
     "iopub.status.busy": "2025-04-03T19:04:43.230937Z",
     "iopub.status.idle": "2025-04-03T19:04:43.911366Z",
     "shell.execute_reply": "2025-04-03T19:04:43.911050Z",
     "shell.execute_reply.started": "2025-04-03T19:04:43.231684Z"
    }
   },
   "outputs": [],
   "source": [
    "from anaconda_ai.integrations.langchain import AnacondaQuantizedModelChat\n",
    "from langchain_core.prompts import ChatPromptTemplate"
   ]
  },
  {
   "cell_type": "code",
   "execution_count": 2,
   "id": "7f66cb26-2445-4b8b-b224-5ff93e2722f3",
   "metadata": {
    "execution": {
     "iopub.execute_input": "2025-04-03T19:04:43.912232Z",
     "iopub.status.busy": "2025-04-03T19:04:43.912089Z",
     "iopub.status.idle": "2025-04-03T19:04:44.229482Z",
     "shell.execute_reply": "2025-04-03T19:04:44.229121Z",
     "shell.execute_reply.started": "2025-04-03T19:04:43.912222Z"
    }
   },
   "outputs": [
    {
     "data": {
      "text/html": [
       "<pre style=\"white-space:pre;overflow-x:auto;line-height:normal;font-family:Menlo,'DejaVu Sans Mono',consolas,'Courier New',monospace\"></pre>\n"
      ],
      "text/plain": []
     },
     "metadata": {},
     "output_type": "display_data"
    },
    {
     "data": {
      "text/html": [
       "<pre style=\"white-space:pre;overflow-x:auto;line-height:normal;font-family:Menlo,'DejaVu Sans Mono',consolas,'Courier New',monospace\"><span style=\"color: #008000; text-decoration-color: #008000; font-weight: bold\">✓</span> TinyLlama-1.1B-Chat-v1.0_Q4_K_M.gguf (running)\n",
       "</pre>\n"
      ],
      "text/plain": [
       "\u001b[1;32m✓\u001b[0m TinyLlama-1.1B-Chat-v1.0_Q4_K_M.gguf (running)\n"
      ]
     },
     "metadata": {},
     "output_type": "display_data"
    }
   ],
   "source": [
    "model = AnacondaQuantizedModelChat(model_name=\"TinyLlama-1.1B-Chat-v1.0/Q4_K_M\")"
   ]
  },
  {
   "cell_type": "code",
   "execution_count": 3,
   "id": "e1b36d30-ee2b-4e10-b625-87a0dd94b88b",
   "metadata": {
    "execution": {
     "iopub.execute_input": "2025-04-03T19:04:45.404059Z",
     "iopub.status.busy": "2025-04-03T19:04:45.403250Z",
     "iopub.status.idle": "2025-04-03T19:04:45.415365Z",
     "shell.execute_reply": "2025-04-03T19:04:45.411954Z",
     "shell.execute_reply.started": "2025-04-03T19:04:45.404022Z"
    }
   },
   "outputs": [],
   "source": [
    "prompt_template = \"\"\"\\\n",
    "You are a coding assistant.\n",
    "You will respond with only raw code, do not format the response as Markdown.\n",
    "Include type hints and docstring. Do not explain the generated code. Do not provide example uses.\n",
    "Write a Python function to {action}\n",
    "\"\"\"\n",
    "\n",
    "template = ChatPromptTemplate.from_template(prompt_template)"
   ]
  },
  {
   "cell_type": "code",
   "execution_count": 4,
   "id": "47caa289-d5f5-449d-97bf-217ba84100e6",
   "metadata": {
    "execution": {
     "iopub.execute_input": "2025-04-03T19:04:46.130792Z",
     "iopub.status.busy": "2025-04-03T19:04:46.128198Z",
     "iopub.status.idle": "2025-04-03T19:04:46.143121Z",
     "shell.execute_reply": "2025-04-03T19:04:46.142534Z",
     "shell.execute_reply.started": "2025-04-03T19:04:46.130720Z"
    }
   },
   "outputs": [],
   "source": [
    "chain = template | model"
   ]
  },
  {
   "cell_type": "code",
   "execution_count": 5,
   "id": "9b4ff01c-0034-4e50-b617-4aa6088b2dfa",
   "metadata": {
    "execution": {
     "iopub.execute_input": "2025-04-03T19:04:46.514075Z",
     "iopub.status.busy": "2025-04-03T19:04:46.512860Z",
     "iopub.status.idle": "2025-04-03T19:04:51.403734Z",
     "shell.execute_reply": "2025-04-03T19:04:51.403265Z",
     "shell.execute_reply.started": "2025-04-03T19:04:46.514011Z"
    }
   },
   "outputs": [],
   "source": [
    "result = chain.invoke(input={\"action\": \"convert timezone on an input datetime object\"})"
   ]
  },
  {
   "cell_type": "code",
   "execution_count": null,
   "id": "0960b82d-51dc-470c-a5b3-050d5404d6ea",
   "metadata": {},
   "outputs": [],
   "source": [
    "print(result.content)"
   ]
  },
  {
   "cell_type": "code",
   "execution_count": null,
   "id": "17169974",
   "metadata": {},
   "outputs": [],
   "source": []
  }
 ],
 "metadata": {
  "kernelspec": {
   "display_name": "Python 3 (ipykernel)",
   "language": "python",
   "name": "python3"
  },
  "language_info": {
   "codemirror_mode": {
    "name": "ipython",
    "version": 3
   },
   "file_extension": ".py",
   "mimetype": "text/x-python",
   "name": "python",
   "nbconvert_exporter": "python",
   "pygments_lexer": "ipython3",
   "version": "3.9.21"
  }
 },
 "nbformat": 4,
 "nbformat_minor": 5
}
