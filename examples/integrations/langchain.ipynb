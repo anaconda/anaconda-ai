{
 "cells": [
  {
   "cell_type": "code",
   "execution_count": 1,
   "id": "92d6cb8e-babc-46cb-993b-5369b3979006",
   "metadata": {
    "execution": {
     "iopub.execute_input": "2025-01-06T17:46:31.168332Z",
     "iopub.status.busy": "2025-01-06T17:46:31.168223Z",
     "iopub.status.idle": "2025-01-06T17:46:32.000189Z",
     "shell.execute_reply": "2025-01-06T17:46:31.999889Z",
     "shell.execute_reply.started": "2025-01-06T17:46:31.168317Z"
    }
   },
   "outputs": [],
   "source": [
    "from anaconda_models.langchain import AnacondaQuantizedModelChat\n",
    "from langchain_core.prompts import ChatPromptTemplate"
   ]
  },
  {
   "cell_type": "code",
   "execution_count": 2,
   "id": "7f66cb26-2445-4b8b-b224-5ff93e2722f3",
   "metadata": {
    "execution": {
     "iopub.execute_input": "2025-01-06T17:46:32.000808Z",
     "iopub.status.busy": "2025-01-06T17:46:32.000649Z",
     "iopub.status.idle": "2025-01-06T17:46:34.998289Z",
     "shell.execute_reply": "2025-01-06T17:46:34.997824Z",
     "shell.execute_reply.started": "2025-01-06T17:46:32.000797Z"
    }
   },
   "outputs": [],
   "source": [
    "model = AnacondaQuantizedModelChat(model_name=\"openhermes-2.5-mistral-7b_q4_k_m\")"
   ]
  },
  {
   "cell_type": "code",
   "execution_count": 7,
   "id": "e1b36d30-ee2b-4e10-b625-87a0dd94b88b",
   "metadata": {
    "execution": {
     "iopub.execute_input": "2025-01-06T17:46:35.000267Z",
     "iopub.status.busy": "2025-01-06T17:46:34.999894Z",
     "iopub.status.idle": "2025-01-06T17:46:35.003003Z",
     "shell.execute_reply": "2025-01-06T17:46:35.002688Z",
     "shell.execute_reply.started": "2025-01-06T17:46:35.000246Z"
    }
   },
   "outputs": [],
   "source": [
    "prompt_template = \"\"\"\\\n",
    "You are a coding assistant.\n",
    "You will respond with only raw code, do not format the response as Markdown.\n",
    "Include type hints and docstring. Do not explain the generated code. Do not provide example uses.\n",
    "Write a Python function to {action}\n",
    "\"\"\"\n",
    "\n",
    "template = ChatPromptTemplate.from_template(prompt_template)"
   ]
  },
  {
   "cell_type": "code",
   "execution_count": 8,
   "id": "47caa289-d5f5-449d-97bf-217ba84100e6",
   "metadata": {
    "execution": {
     "iopub.execute_input": "2025-01-06T17:46:35.003604Z",
     "iopub.status.busy": "2025-01-06T17:46:35.003469Z",
     "iopub.status.idle": "2025-01-06T17:46:35.007118Z",
     "shell.execute_reply": "2025-01-06T17:46:35.006598Z",
     "shell.execute_reply.started": "2025-01-06T17:46:35.003593Z"
    }
   },
   "outputs": [],
   "source": [
    "chain = template | model"
   ]
  },
  {
   "cell_type": "code",
   "execution_count": 9,
   "id": "9b4ff01c-0034-4e50-b617-4aa6088b2dfa",
   "metadata": {
    "execution": {
     "iopub.execute_input": "2025-01-06T17:46:35.510140Z",
     "iopub.status.busy": "2025-01-06T17:46:35.509844Z",
     "iopub.status.idle": "2025-01-06T17:46:37.710675Z",
     "shell.execute_reply": "2025-01-06T17:46:37.710305Z",
     "shell.execute_reply.started": "2025-01-06T17:46:35.510117Z"
    }
   },
   "outputs": [],
   "source": [
    "result = chain.invoke(input={\"action\": \"convert timezone on an input datetime object\"})"
   ]
  },
  {
   "cell_type": "code",
   "execution_count": 10,
   "id": "0960b82d-51dc-470c-a5b3-050d5404d6ea",
   "metadata": {
    "execution": {
     "iopub.execute_input": "2025-01-06T17:46:37.711569Z",
     "iopub.status.busy": "2025-01-06T17:46:37.711422Z",
     "iopub.status.idle": "2025-01-06T17:46:37.713957Z",
     "shell.execute_reply": "2025-01-06T17:46:37.713667Z",
     "shell.execute_reply.started": "2025-01-06T17:46:37.711548Z"
    }
   },
   "outputs": [
    {
     "name": "stdout",
     "output_type": "stream",
     "text": [
      "def convert_timezone(dt: datetime, target_tz: pytz.timezone) -> datetime:\n",
      "    \"\"\"\n",
      "    Converts the timezone of a datetime object.\n",
      "\n",
      "    Args:\n",
      "    dt (datetime): The datetime object to be converted.\n",
      "    target_tz (pytz.timezone): The target timezone to convert the datetime object to.\n",
      "\n",
      "    Returns:\n",
      "    datetime: The datetime object with the converted timezone.\n",
      "    \"\"\"\n",
      "    utc_dt = dt.astimezone(pytz.utc)\n",
      "    target_dt = utc_dt.astimezone(target_tz)\n",
      "    return target_dt.replace(tzinfo=None)\n"
     ]
    }
   ],
   "source": [
    "print(result.content)"
   ]
  },
  {
   "cell_type": "code",
   "execution_count": null,
   "id": "17169974",
   "metadata": {},
   "outputs": [],
   "source": []
  }
 ],
 "metadata": {
  "kernelspec": {
   "display_name": "Python 3",
   "language": "python",
   "name": "python3"
  },
  "language_info": {
   "codemirror_mode": {
    "name": "ipython",
    "version": 3
   },
   "file_extension": ".py",
   "mimetype": "text/x-python",
   "name": "python",
   "nbconvert_exporter": "python",
   "pygments_lexer": "ipython3",
   "version": "3.10.16"
  }
 },
 "nbformat": 4,
 "nbformat_minor": 5
}
