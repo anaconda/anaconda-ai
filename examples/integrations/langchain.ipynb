{
 "cells": [
  {
   "cell_type": "code",
   "execution_count": 1,
   "id": "92d6cb8e-babc-46cb-993b-5369b3979006",
   "metadata": {
    "execution": {
     "iopub.execute_input": "2025-04-08T21:57:44.385137Z",
     "iopub.status.busy": "2025-04-08T21:57:44.384680Z",
     "iopub.status.idle": "2025-04-08T21:57:45.129541Z",
     "shell.execute_reply": "2025-04-08T21:57:45.129233Z",
     "shell.execute_reply.started": "2025-04-08T21:57:44.385107Z"
    }
   },
   "outputs": [],
   "source": [
    "from anaconda_ai.integrations.langchain import AnacondaQuantizedModelChat\n",
    "from langchain_core.prompts import ChatPromptTemplate"
   ]
  },
  {
   "cell_type": "code",
   "execution_count": 2,
   "id": "7f66cb26-2445-4b8b-b224-5ff93e2722f3",
   "metadata": {
    "execution": {
     "iopub.execute_input": "2025-04-08T21:57:45.714023Z",
     "iopub.status.busy": "2025-04-08T21:57:45.712852Z",
     "iopub.status.idle": "2025-04-08T21:57:46.712907Z",
     "shell.execute_reply": "2025-04-08T21:57:46.712381Z",
     "shell.execute_reply.started": "2025-04-08T21:57:45.713965Z"
    }
   },
   "outputs": [
    {
     "data": {
      "application/vnd.jupyter.widget-view+json": {
       "model_id": "6c0e1a6e84904bbfaffe19d2cd8741b3",
       "version_major": 2,
       "version_minor": 0
      },
      "text/plain": [
       "Output()"
      ]
     },
     "metadata": {},
     "output_type": "display_data"
    },
    {
     "data": {
      "text/html": [
       "<pre style=\"white-space:pre;overflow-x:auto;line-height:normal;font-family:Menlo,'DejaVu Sans Mono',consolas,'Courier New',monospace\"></pre>\n"
      ],
      "text/plain": []
     },
     "metadata": {},
     "output_type": "display_data"
    },
    {
     "data": {
      "text/html": [
       "<pre style=\"white-space:pre;overflow-x:auto;line-height:normal;font-family:Menlo,'DejaVu Sans Mono',consolas,'Courier New',monospace\"><span style=\"color: #008000; text-decoration-color: #008000; font-weight: bold\">✓</span> TinyLlama-1.1B-Chat-v1.0_Q4_K_M.gguf (running)\n",
       "</pre>\n"
      ],
      "text/plain": [
       "\u001b[1;32m✓\u001b[0m TinyLlama-1.1B-Chat-v1.0_Q4_K_M.gguf (running)\n"
      ]
     },
     "metadata": {},
     "output_type": "display_data"
    }
   ],
   "source": [
    "model = AnacondaQuantizedModelChat(model_name=\"TinyLlama-1.1B-Chat-v1.0/Q4_K_M\")"
   ]
  },
  {
   "cell_type": "code",
   "execution_count": 3,
   "id": "e1b36d30-ee2b-4e10-b625-87a0dd94b88b",
   "metadata": {
    "execution": {
     "iopub.execute_input": "2025-04-08T21:57:47.429251Z",
     "iopub.status.busy": "2025-04-08T21:57:47.427788Z",
     "iopub.status.idle": "2025-04-08T21:57:47.437226Z",
     "shell.execute_reply": "2025-04-08T21:57:47.436357Z",
     "shell.execute_reply.started": "2025-04-08T21:57:47.429205Z"
    }
   },
   "outputs": [],
   "source": [
    "prompt_template = \"\"\"\\\n",
    "You are a coding assistant.\n",
    "You will respond with only raw code, do not format the response as Markdown.\n",
    "Include type hints and docstring. Do not explain the generated code. Do not provide example uses.\n",
    "Write a Python function to {action}\n",
    "\"\"\"\n",
    "\n",
    "template = ChatPromptTemplate.from_template(prompt_template)"
   ]
  },
  {
   "cell_type": "code",
   "execution_count": 4,
   "id": "47caa289-d5f5-449d-97bf-217ba84100e6",
   "metadata": {
    "execution": {
     "iopub.execute_input": "2025-04-08T21:57:48.792440Z",
     "iopub.status.busy": "2025-04-08T21:57:48.791139Z",
     "iopub.status.idle": "2025-04-08T21:57:48.805208Z",
     "shell.execute_reply": "2025-04-08T21:57:48.804770Z",
     "shell.execute_reply.started": "2025-04-08T21:57:48.792396Z"
    }
   },
   "outputs": [],
   "source": [
    "chain = template | model"
   ]
  },
  {
   "cell_type": "code",
   "execution_count": 5,
   "id": "9b4ff01c-0034-4e50-b617-4aa6088b2dfa",
   "metadata": {
    "execution": {
     "iopub.execute_input": "2025-04-08T21:57:50.451465Z",
     "iopub.status.busy": "2025-04-08T21:57:50.450627Z",
     "iopub.status.idle": "2025-04-08T21:57:58.482111Z",
     "shell.execute_reply": "2025-04-08T21:57:58.481753Z",
     "shell.execute_reply.started": "2025-04-08T21:57:50.451431Z"
    }
   },
   "outputs": [],
   "source": [
    "result = chain.invoke(input={\"action\": \"convert timezone on an input datetime object\"})"
   ]
  },
  {
   "cell_type": "code",
   "execution_count": 6,
   "id": "0960b82d-51dc-470c-a5b3-050d5404d6ea",
   "metadata": {
    "execution": {
     "iopub.execute_input": "2025-04-08T21:57:59.874436Z",
     "iopub.status.busy": "2025-04-08T21:57:59.874008Z",
     "iopub.status.idle": "2025-04-08T21:57:59.887021Z",
     "shell.execute_reply": "2025-04-08T21:57:59.885353Z",
     "shell.execute_reply.started": "2025-04-08T21:57:59.874409Z"
    }
   },
   "outputs": [
    {
     "name": "stdout",
     "output_type": "stream",
     "text": [
      "def convert_timezone(dt: datetime, target_tz: str) -> datetime:\n",
      "    \"\"\"\n",
      "    Converts the input datetime object to the specified timezone.\n",
      "\n",
      "    :param dt: The datetime object to be converted.\n",
      "    :type dt: datetime\n",
      "    :param target_tz: The target timezone to convert the datetime object to.\n",
      "    :type target_tz: str\n",
      "    :return: The datetime object converted to the target timezone.\n",
      "    :rtype: datetime\n",
      "    \"\"\"\n",
      "    pytz.timezone(target_tz).localize(dt)\n",
      "\n",
      "# Example usage:\n",
      "# input_datetime = datetime.strptime('2022-01-01 12:00:00', '%Y-%m-%d %H:%M:%S')\n",
      "# target_timezone = 'US/Eastern'\n",
      "# converted_datetime = convert_timezone(input_datetime, target_timezone)\n",
      "# print(converted_datetime)\n"
     ]
    },
    {
     "data": {
      "text/html": [
       "<pre style=\"white-space:pre;overflow-x:auto;line-height:normal;font-family:Menlo,'DejaVu Sans Mono',consolas,'Courier New',monospace\"></pre>\n"
      ],
      "text/plain": []
     },
     "metadata": {},
     "output_type": "display_data"
    },
    {
     "data": {
      "text/html": [
       "<pre style=\"white-space:pre;overflow-x:auto;line-height:normal;font-family:Menlo,'DejaVu Sans Mono',consolas,'Courier New',monospace\"><span style=\"color: #008000; text-decoration-color: #008000; font-weight: bold\">✓</span> TinyLlama-1.1B-Chat-v1.0_Q4_K_M.gguf (stopped)\n",
       "</pre>\n"
      ],
      "text/plain": [
       "\u001b[1;32m✓\u001b[0m TinyLlama-1.1B-Chat-v1.0_Q4_K_M.gguf (stopped)\n"
      ]
     },
     "metadata": {},
     "output_type": "display_data"
    }
   ],
   "source": [
    "print(result.content)"
   ]
  },
  {
   "cell_type": "code",
   "execution_count": null,
   "id": "17169974",
   "metadata": {},
   "outputs": [],
   "source": []
  }
 ],
 "metadata": {
  "kernelspec": {
   "display_name": "Python 3 (ipykernel)",
   "language": "python",
   "name": "python3"
  },
  "language_info": {
   "codemirror_mode": {
    "name": "ipython",
    "version": 3
   },
   "file_extension": ".py",
   "mimetype": "text/x-python",
   "name": "python",
   "nbconvert_exporter": "python",
   "pygments_lexer": "ipython3",
   "version": "3.9.21"
  }
 },
 "nbformat": 4,
 "nbformat_minor": 5
}
