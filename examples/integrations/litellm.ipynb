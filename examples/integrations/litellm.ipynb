{
 "cells": [
  {
   "cell_type": "code",
   "execution_count": 1,
   "id": "40c19ca0-ceca-420a-a618-0ff51db87e69",
   "metadata": {
    "execution": {
     "iopub.execute_input": "2025-03-25T19:01:23.123196Z",
     "iopub.status.busy": "2025-03-25T19:01:23.123008Z",
     "iopub.status.idle": "2025-03-25T19:01:24.763923Z",
     "shell.execute_reply": "2025-03-25T19:01:24.763539Z",
     "shell.execute_reply.started": "2025-03-25T19:01:23.123184Z"
    }
   },
   "outputs": [],
   "source": [
    "import litellm\n",
    "import anaconda_ai.integrations.litellm  # noqa: F401\n",
    "import sys\n",
    "from time import sleep"
   ]
  },
  {
   "cell_type": "code",
   "execution_count": 2,
   "id": "31d3b776-2f22-4e1b-9e76-ad8a5e751546",
   "metadata": {
    "execution": {
     "iopub.execute_input": "2025-03-25T19:01:24.764506Z",
     "iopub.status.busy": "2025-03-25T19:01:24.764307Z",
     "iopub.status.idle": "2025-03-25T19:01:33.637680Z",
     "shell.execute_reply": "2025-03-25T19:01:33.633535Z",
     "shell.execute_reply.started": "2025-03-25T19:01:24.764494Z"
    }
   },
   "outputs": [
    {
     "data": {
      "application/vnd.jupyter.widget-view+json": {
       "model_id": "ae33d69fc3e34fe9ae667cb3c9d99952",
       "version_major": 2,
       "version_minor": 0
      },
      "text/plain": [
       "Output()"
      ]
     },
     "metadata": {},
     "output_type": "display_data"
    },
    {
     "data": {
      "text/html": [
       "<pre style=\"white-space:pre;overflow-x:auto;line-height:normal;font-family:Menlo,'DejaVu Sans Mono',consolas,'Courier New',monospace\"></pre>\n"
      ],
      "text/plain": []
     },
     "metadata": {},
     "output_type": "display_data"
    },
    {
     "data": {
      "text/html": [
       "<pre style=\"white-space:pre;overflow-x:auto;line-height:normal;font-family:Menlo,'DejaVu Sans Mono',consolas,'Courier New',monospace\"><span style=\"color: #008000; text-decoration-color: #008000; font-weight: bold\">✓</span> OpenHermes-2.5-Mistral-7B_Q4_K_M.gguf (running)\n",
       "</pre>\n"
      ],
      "text/plain": [
       "\u001b[1;32m✓\u001b[0m OpenHermes-2.5-Mistral-7B_Q4_K_M.gguf (running)\n"
      ]
     },
     "metadata": {},
     "output_type": "display_data"
    },
    {
     "name": "stdout",
     "output_type": "stream",
     "text": [
      "Pi (π) is a mathematical constant that represents the ratio of a circle's circumference to its diameter. Its value is approximately 3.14159. Pi is an irrational number, which means it cannot be expressed as a simple fraction and its decimal representation never ends or repeats."
     ]
    }
   ],
   "source": [
    "response = litellm.completion(\n",
    "    \"anaconda/openhermes-2.5-mistral-7b/q4_k_m\",\n",
    "    messages=[{\"role\": \"user\", \"content\": \"what is pi?\"}],\n",
    "    stream=True,\n",
    "    stream_options={\"include_usage\": True},\n",
    ")\n",
    "for chunk in response:\n",
    "    print(chunk.choices[0].delta.content or \"\", end=\"\")\n",
    "    sys.stdout.flush()\n",
    "    sleep(0.05)"
   ]
  },
  {
   "cell_type": "code",
   "execution_count": 3,
   "id": "64543fbd-e2ad-4b86-871b-c566ffbe2d2c",
   "metadata": {
    "execution": {
     "iopub.execute_input": "2025-03-25T19:01:33.643346Z",
     "iopub.status.busy": "2025-03-25T19:01:33.642567Z",
     "iopub.status.idle": "2025-03-25T19:01:33.654071Z",
     "shell.execute_reply": "2025-03-25T19:01:33.653601Z",
     "shell.execute_reply.started": "2025-03-25T19:01:33.643304Z"
    }
   },
   "outputs": [
    {
     "data": {
      "text/plain": [
       "Usage(completion_tokens=56, prompt_tokens=11, total_tokens=67, completion_tokens_details=None, prompt_tokens_details=None)"
      ]
     },
     "execution_count": 3,
     "metadata": {},
     "output_type": "execute_result"
    }
   ],
   "source": [
    "chunk.usage"
   ]
  },
  {
   "cell_type": "code",
   "execution_count": null,
   "id": "d0700f04",
   "metadata": {},
   "outputs": [],
   "source": []
  }
 ],
 "metadata": {
  "kernelspec": {
   "display_name": "Python 3 (ipykernel)",
   "language": "python",
   "name": "python3"
  },
  "language_info": {
   "codemirror_mode": {
    "name": "ipython",
    "version": 3
   },
   "file_extension": ".py",
   "mimetype": "text/x-python",
   "name": "python",
   "nbconvert_exporter": "python",
   "pygments_lexer": "ipython3",
   "version": "3.9.21"
  }
 },
 "nbformat": 4,
 "nbformat_minor": 5
}
