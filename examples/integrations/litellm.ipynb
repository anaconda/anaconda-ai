{
 "cells": [
  {
   "cell_type": "code",
   "execution_count": 1,
   "id": "40c19ca0-ceca-420a-a618-0ff51db87e69",
   "metadata": {
    "execution": {
     "iopub.execute_input": "2025-04-03T20:06:16.349298Z",
     "iopub.status.busy": "2025-04-03T20:06:16.348535Z",
     "iopub.status.idle": "2025-04-03T20:06:17.753439Z",
     "shell.execute_reply": "2025-04-03T20:06:17.753138Z",
     "shell.execute_reply.started": "2025-04-03T20:06:16.349257Z"
    }
   },
   "outputs": [],
   "source": [
    "import litellm\n",
    "import anaconda_ai.integrations.litellm  # noqa: F401\n",
    "import sys\n",
    "from time import sleep"
   ]
  },
  {
   "cell_type": "code",
   "execution_count": 2,
   "id": "31d3b776-2f22-4e1b-9e76-ad8a5e751546",
   "metadata": {
    "execution": {
     "iopub.execute_input": "2025-04-03T20:06:21.368071Z",
     "iopub.status.busy": "2025-04-03T20:06:21.366608Z",
     "iopub.status.idle": "2025-04-03T20:08:22.462215Z",
     "shell.execute_reply": "2025-04-03T20:08:22.461484Z",
     "shell.execute_reply.started": "2025-04-03T20:06:21.368007Z"
    }
   },
   "outputs": [
    {
     "data": {
      "application/vnd.jupyter.widget-view+json": {
       "model_id": "4f4f0330d34144e689c1a043be053ed7",
       "version_major": 2,
       "version_minor": 0
      },
      "text/plain": [
       "Output()"
      ]
     },
     "metadata": {},
     "output_type": "display_data"
    },
    {
     "data": {
      "text/html": [
       "<pre style=\"white-space:pre;overflow-x:auto;line-height:normal;font-family:Menlo,'DejaVu Sans Mono',consolas,'Courier New',monospace\"></pre>\n"
      ],
      "text/plain": []
     },
     "metadata": {},
     "output_type": "display_data"
    },
    {
     "data": {
      "text/html": [
       "<pre style=\"white-space:pre;overflow-x:auto;line-height:normal;font-family:Menlo,'DejaVu Sans Mono',consolas,'Courier New',monospace\"></pre>\n"
      ],
      "text/plain": []
     },
     "metadata": {},
     "output_type": "display_data"
    },
    {
     "data": {
      "text/html": [
       "<pre style=\"white-space:pre;overflow-x:auto;line-height:normal;font-family:Menlo,'DejaVu Sans Mono',consolas,'Courier New',monospace\"><span style=\"color: #008000; text-decoration-color: #008000; font-weight: bold\">✓</span> OpenHermes-2.5-Mistral-7B_Q4_K_M.gguf (running)\n",
       "</pre>\n"
      ],
      "text/plain": [
       "\u001b[1;32m✓\u001b[0m OpenHermes-2.5-Mistral-7B_Q4_K_M.gguf (running)\n"
      ]
     },
     "metadata": {},
     "output_type": "display_data"
    },
    {
     "name": "stdout",
     "output_type": "stream",
     "text": [
      "Pi (π) is a mathematical constant that represents the ratio of a circular object's circumference to its diameter. Its value is approximately equal to 3.14159. However, pi is an irrational number, which means it cannot be expressed as a simple fraction and continues infinitely without any discernible pattern."
     ]
    }
   ],
   "source": [
    "response = litellm.completion(\n",
    "    \"anaconda/openhermes-2.5-mistral-7b/q4_k_m\",\n",
    "    messages=[{\"role\": \"user\", \"content\": \"what is pi?\"}],\n",
    "    stream=True,\n",
    "    stream_options={\"include_usage\": True},\n",
    "    optional_params={\"load_params\": {\"ctx_size\": 512}},\n",
    ")\n",
    "for chunk in response:\n",
    "    print(chunk.choices[0].delta.content or \"\", end=\"\")\n",
    "    sys.stdout.flush()\n",
    "    sleep(0.05)"
   ]
  },
  {
   "cell_type": "code",
   "execution_count": 3,
   "id": "64543fbd-e2ad-4b86-871b-c566ffbe2d2c",
   "metadata": {
    "execution": {
     "iopub.execute_input": "2025-04-03T20:08:30.895597Z",
     "iopub.status.busy": "2025-04-03T20:08:30.895122Z",
     "iopub.status.idle": "2025-04-03T20:08:30.902006Z",
     "shell.execute_reply": "2025-04-03T20:08:30.901314Z",
     "shell.execute_reply.started": "2025-04-03T20:08:30.895564Z"
    }
   },
   "outputs": [
    {
     "data": {
      "text/plain": [
       "Usage(completion_tokens=61, prompt_tokens=11, total_tokens=72, completion_tokens_details=None, prompt_tokens_details=None)"
      ]
     },
     "execution_count": 3,
     "metadata": {},
     "output_type": "execute_result"
    }
   ],
   "source": [
    "chunk.usage"
   ]
  },
  {
   "cell_type": "code",
   "execution_count": null,
   "id": "d0700f04",
   "metadata": {},
   "outputs": [],
   "source": []
  }
 ],
 "metadata": {
  "kernelspec": {
   "display_name": "Python 3 (ipykernel)",
   "language": "python",
   "name": "python3"
  },
  "language_info": {
   "codemirror_mode": {
    "name": "ipython",
    "version": 3
   },
   "file_extension": ".py",
   "mimetype": "text/x-python",
   "name": "python",
   "nbconvert_exporter": "python",
   "pygments_lexer": "ipython3",
   "version": "3.9.21"
  }
 },
 "nbformat": 4,
 "nbformat_minor": 5
}
