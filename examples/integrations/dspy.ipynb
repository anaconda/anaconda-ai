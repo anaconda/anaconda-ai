{
 "cells": [
  {
   "cell_type": "code",
   "execution_count": 2,
   "id": "d8b63baf-486f-48fa-be4d-848e317b8e9e",
   "metadata": {
    "execution": {
     "iopub.execute_input": "2025-02-18T03:46:05.421649Z",
     "iopub.status.busy": "2025-02-18T03:46:05.420896Z",
     "iopub.status.idle": "2025-02-18T03:46:05.425418Z",
     "shell.execute_reply": "2025-02-18T03:46:05.425010Z",
     "shell.execute_reply.started": "2025-02-18T03:46:05.421618Z"
    }
   },
   "outputs": [],
   "source": [
    "import dspy"
   ]
  },
  {
   "cell_type": "code",
   "execution_count": 3,
   "id": "d453b94b-38de-44a3-9ad4-5e1ad82ca0e0",
   "metadata": {
    "execution": {
     "iopub.execute_input": "2025-02-18T03:46:08.893777Z",
     "iopub.status.busy": "2025-02-18T03:46:08.893389Z",
     "iopub.status.idle": "2025-02-18T03:46:08.897629Z",
     "shell.execute_reply": "2025-02-18T03:46:08.897016Z",
     "shell.execute_reply.started": "2025-02-18T03:46:08.893748Z"
    }
   },
   "outputs": [],
   "source": [
    "lm = dspy.LM(\"anaconda/openhermes-2.5-mistral-7b/q4_k_m\", cache=False)\n",
    "dspy.configure(lm=lm)"
   ]
  },
  {
   "cell_type": "code",
   "execution_count": 4,
   "id": "fa2c90ac-f553-41a4-b3b5-dd73d42c40c4",
   "metadata": {
    "execution": {
     "iopub.execute_input": "2025-02-18T03:46:15.188959Z",
     "iopub.status.busy": "2025-02-18T03:46:15.188549Z",
     "iopub.status.idle": "2025-02-18T03:46:36.801814Z",
     "shell.execute_reply": "2025-02-18T03:46:36.801521Z",
     "shell.execute_reply.started": "2025-02-18T03:46:15.188930Z"
    }
   },
   "outputs": [
    {
     "data": {
      "text/plain": [
       "Prediction(\n",
       "    reasoning='Verdict for claim 1: False, as Python was released in 1991.\\nVerdict for claim 2: False, as Python is an interpreted language, not a compiled one.',\n",
       "    verdicts=[False, False]\n",
       ")"
      ]
     },
     "execution_count": 4,
     "metadata": {},
     "output_type": "execute_result"
    }
   ],
   "source": [
    "fact_checking = dspy.asyncify(dspy.ChainOfThought(\"claims -> verdicts: list[bool]\"))\n",
    "\n",
    "res = await fact_checking(\n",
    "    claims=[\"Python was released in 1991.\", \"Python is a compiled language.\"]\n",
    ")\n",
    "res"
   ]
  },
  {
   "cell_type": "code",
   "execution_count": null,
   "id": "898054ec-f4bc-4bfd-94e9-771bbce3c677",
   "metadata": {},
   "outputs": [],
   "source": []
  }
 ],
 "metadata": {
  "kernelspec": {
   "display_name": "Python 3 (ipykernel)",
   "language": "python",
   "name": "python3"
  },
  "language_info": {
   "codemirror_mode": {
    "name": "ipython",
    "version": 3
   },
   "file_extension": ".py",
   "mimetype": "text/x-python",
   "name": "python",
   "nbconvert_exporter": "python",
   "pygments_lexer": "ipython3",
   "version": "3.10.16"
  }
 },
 "nbformat": 4,
 "nbformat_minor": 5
}
