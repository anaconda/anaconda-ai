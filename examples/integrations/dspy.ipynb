{
 "cells": [
  {
   "cell_type": "code",
   "execution_count": 1,
   "id": "d8b63baf-486f-48fa-be4d-848e317b8e9e",
   "metadata": {
    "execution": {
     "iopub.execute_input": "2025-04-08T21:57:16.199629Z",
     "iopub.status.busy": "2025-04-08T21:57:16.199221Z",
     "iopub.status.idle": "2025-04-08T21:57:18.608221Z",
     "shell.execute_reply": "2025-04-08T21:57:18.607889Z",
     "shell.execute_reply.started": "2025-04-08T21:57:16.199597Z"
    }
   },
   "outputs": [],
   "source": [
    "import dspy\n",
    "import anaconda_ai.integrations.litellm  # noqa: F401"
   ]
  },
  {
   "cell_type": "code",
   "execution_count": 2,
   "id": "d453b94b-38de-44a3-9ad4-5e1ad82ca0e0",
   "metadata": {
    "execution": {
     "iopub.execute_input": "2025-04-08T21:57:19.185369Z",
     "iopub.status.busy": "2025-04-08T21:57:19.184767Z",
     "iopub.status.idle": "2025-04-08T21:57:19.194814Z",
     "shell.execute_reply": "2025-04-08T21:57:19.193709Z",
     "shell.execute_reply.started": "2025-04-08T21:57:19.185342Z"
    }
   },
   "outputs": [],
   "source": [
    "lm = dspy.LM(\n",
    "    \"anaconda/openhermes-2.5-mistral-7b/q4_k_m\",\n",
    "    cache=False,\n",
    "    optional_params={\"load_params\": {\"ctx_size\": 512}},\n",
    ")\n",
    "dspy.configure(lm=lm)"
   ]
  },
  {
   "cell_type": "code",
   "execution_count": 3,
   "id": "fa2c90ac-f553-41a4-b3b5-dd73d42c40c4",
   "metadata": {
    "execution": {
     "iopub.execute_input": "2025-04-08T21:57:20.251927Z",
     "iopub.status.busy": "2025-04-08T21:57:20.251500Z",
     "iopub.status.idle": "2025-04-08T21:57:25.818634Z",
     "shell.execute_reply": "2025-04-08T21:57:25.818363Z",
     "shell.execute_reply.started": "2025-04-08T21:57:20.251899Z"
    }
   },
   "outputs": [
    {
     "data": {
      "application/vnd.jupyter.widget-view+json": {
       "model_id": "68d196cd806d498cb2bd61a86e7ab0cf",
       "version_major": 2,
       "version_minor": 0
      },
      "text/plain": [
       "Output()"
      ]
     },
     "metadata": {},
     "output_type": "display_data"
    },
    {
     "data": {
      "text/html": [
       "<pre style=\"white-space:pre;overflow-x:auto;line-height:normal;font-family:Menlo,'DejaVu Sans Mono',consolas,'Courier New',monospace\"></pre>\n"
      ],
      "text/plain": []
     },
     "metadata": {},
     "output_type": "display_data"
    },
    {
     "data": {
      "text/html": [
       "<pre style=\"white-space:pre;overflow-x:auto;line-height:normal;font-family:Menlo,'DejaVu Sans Mono',consolas,'Courier New',monospace\"><span style=\"color: #008000; text-decoration-color: #008000; font-weight: bold\">✓</span> OpenHermes-2.5-Mistral-7B_Q4_K_M.gguf (running)\n",
       "</pre>\n"
      ],
      "text/plain": [
       "\u001b[1;32m✓\u001b[0m OpenHermes-2.5-Mistral-7B_Q4_K_M.gguf (running)\n"
      ]
     },
     "metadata": {},
     "output_type": "display_data"
    },
    {
     "data": {
      "text/plain": [
       "Prediction(\n",
       "    reasoning='Verdict 1: The claim states that Python was released in 1991. This is incorrect as Python was released in 1990.\\nVerdict 2: The claim states that Python is a compiled language. This is correct as Python is an interpreted, high-level, and compiled language.',\n",
       "    verdicts=[False, True]\n",
       ")"
      ]
     },
     "execution_count": 3,
     "metadata": {},
     "output_type": "execute_result"
    }
   ],
   "source": [
    "fact_checking = dspy.asyncify(dspy.ChainOfThought(\"claims -> verdicts: list[bool]\"))\n",
    "\n",
    "res = await fact_checking(\n",
    "    claims=[\"Python was released in 1991.\", \"Python is a compiled language.\"]\n",
    ")\n",
    "res"
   ]
  },
  {
   "cell_type": "code",
   "execution_count": null,
   "id": "898054ec-f4bc-4bfd-94e9-771bbce3c677",
   "metadata": {},
   "outputs": [],
   "source": []
  }
 ],
 "metadata": {
  "kernelspec": {
   "display_name": "Python 3 (ipykernel)",
   "language": "python",
   "name": "python3"
  },
  "language_info": {
   "codemirror_mode": {
    "name": "ipython",
    "version": 3
   },
   "file_extension": ".py",
   "mimetype": "text/x-python",
   "name": "python",
   "nbconvert_exporter": "python",
   "pygments_lexer": "ipython3",
   "version": "3.9.21"
  }
 },
 "nbformat": 4,
 "nbformat_minor": 5
}
