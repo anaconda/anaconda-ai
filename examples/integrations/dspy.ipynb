{
 "cells": [
  {
   "cell_type": "code",
   "execution_count": 1,
   "id": "d8b63baf-486f-48fa-be4d-848e317b8e9e",
   "metadata": {
    "execution": {
     "iopub.execute_input": "2025-03-25T19:00:06.987744Z",
     "iopub.status.busy": "2025-03-25T19:00:06.987640Z",
     "iopub.status.idle": "2025-03-25T19:00:08.999488Z",
     "shell.execute_reply": "2025-03-25T19:00:08.999153Z",
     "shell.execute_reply.started": "2025-03-25T19:00:06.987734Z"
    }
   },
   "outputs": [],
   "source": [
    "import dspy\n",
    "import anaconda_ai.integrations.litellm  # noqa: F401"
   ]
  },
  {
   "cell_type": "code",
   "execution_count": 2,
   "id": "d453b94b-38de-44a3-9ad4-5e1ad82ca0e0",
   "metadata": {
    "execution": {
     "iopub.execute_input": "2025-03-25T19:00:09.000208Z",
     "iopub.status.busy": "2025-03-25T19:00:09.000020Z",
     "iopub.status.idle": "2025-03-25T19:00:09.002526Z",
     "shell.execute_reply": "2025-03-25T19:00:09.002089Z",
     "shell.execute_reply.started": "2025-03-25T19:00:09.000196Z"
    }
   },
   "outputs": [],
   "source": [
    "lm = dspy.LM(\"anaconda/openhermes-2.5-mistral-7b/q4_k_m\", cache=False)\n",
    "dspy.configure(lm=lm)"
   ]
  },
  {
   "cell_type": "code",
   "execution_count": 3,
   "id": "fa2c90ac-f553-41a4-b3b5-dd73d42c40c4",
   "metadata": {
    "execution": {
     "iopub.execute_input": "2025-03-25T19:00:09.003301Z",
     "iopub.status.busy": "2025-03-25T19:00:09.003147Z",
     "iopub.status.idle": "2025-03-25T19:00:17.971895Z",
     "shell.execute_reply": "2025-03-25T19:00:17.971508Z",
     "shell.execute_reply.started": "2025-03-25T19:00:09.003289Z"
    }
   },
   "outputs": [
    {
     "data": {
      "application/vnd.jupyter.widget-view+json": {
       "model_id": "9cdbcbcc012d460098f251e1e91ddc1e",
       "version_major": 2,
       "version_minor": 0
      },
      "text/plain": [
       "Output()"
      ]
     },
     "metadata": {},
     "output_type": "display_data"
    },
    {
     "data": {
      "text/html": [
       "<pre style=\"white-space:pre;overflow-x:auto;line-height:normal;font-family:Menlo,'DejaVu Sans Mono',consolas,'Courier New',monospace\"></pre>\n"
      ],
      "text/plain": []
     },
     "metadata": {},
     "output_type": "display_data"
    },
    {
     "data": {
      "text/html": [
       "<pre style=\"white-space:pre;overflow-x:auto;line-height:normal;font-family:Menlo,'DejaVu Sans Mono',consolas,'Courier New',monospace\"><span style=\"color: #008000; text-decoration-color: #008000; font-weight: bold\">✓</span> OpenHermes-2.5-Mistral-7B_Q4_K_M.gguf (running)\n",
       "</pre>\n"
      ],
      "text/plain": [
       "\u001b[1;32m✓\u001b[0m OpenHermes-2.5-Mistral-7B_Q4_K_M.gguf (running)\n"
      ]
     },
     "metadata": {},
     "output_type": "display_data"
    },
    {
     "data": {
      "text/plain": [
       "Prediction(\n",
       "    reasoning='Verdict 1: The claim states that Python was released in 1991. This is incorrect as Python was released in 1990.\\nVerdict 2: The claim states that Python is a compiled language. This is correct as Python is an interpreted, high-level, and compiled language.',\n",
       "    verdicts=[False, True]\n",
       ")"
      ]
     },
     "execution_count": 3,
     "metadata": {},
     "output_type": "execute_result"
    }
   ],
   "source": [
    "fact_checking = dspy.asyncify(dspy.ChainOfThought(\"claims -> verdicts: list[bool]\"))\n",
    "\n",
    "res = await fact_checking(\n",
    "    claims=[\"Python was released in 1991.\", \"Python is a compiled language.\"]\n",
    ")\n",
    "res"
   ]
  },
  {
   "cell_type": "code",
   "execution_count": null,
   "id": "898054ec-f4bc-4bfd-94e9-771bbce3c677",
   "metadata": {},
   "outputs": [],
   "source": []
  }
 ],
 "metadata": {
  "kernelspec": {
   "display_name": "Python 3 (ipykernel)",
   "language": "python",
   "name": "python3"
  },
  "language_info": {
   "codemirror_mode": {
    "name": "ipython",
    "version": 3
   },
   "file_extension": ".py",
   "mimetype": "text/x-python",
   "name": "python",
   "nbconvert_exporter": "python",
   "pygments_lexer": "ipython3",
   "version": "3.9.21"
  }
 },
 "nbformat": 4,
 "nbformat_minor": 5
}
