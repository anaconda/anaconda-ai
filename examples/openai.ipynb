{
 "cells": [
  {
   "cell_type": "code",
   "execution_count": 1,
   "id": "b6ee7131-9642-4399-8806-d6a46188c33d",
   "metadata": {
    "execution": {
     "iopub.execute_input": "2025-01-06T16:23:00.219309Z",
     "iopub.status.busy": "2025-01-06T16:23:00.218555Z",
     "iopub.status.idle": "2025-01-06T16:23:00.596295Z",
     "shell.execute_reply": "2025-01-06T16:23:00.596004Z",
     "shell.execute_reply.started": "2025-01-06T16:23:00.219262Z"
    }
   },
   "outputs": [],
   "source": [
    "from anaconda_models import AnacondaQuantizedModelCache"
   ]
  },
  {
   "cell_type": "code",
   "execution_count": 2,
   "id": "2ab00385-76f6-4533-8810-9d0f68a35aa3",
   "metadata": {
    "execution": {
     "iopub.execute_input": "2025-01-06T16:23:01.731532Z",
     "iopub.status.busy": "2025-01-06T16:23:01.729729Z",
     "iopub.status.idle": "2025-01-06T16:23:02.387620Z",
     "shell.execute_reply": "2025-01-06T16:23:02.383817Z",
     "shell.execute_reply.started": "2025-01-06T16:23:01.731477Z"
    }
   },
   "outputs": [
    {
     "data": {
      "text/plain": [
       "True"
      ]
     },
     "execution_count": 2,
     "metadata": {},
     "output_type": "execute_result"
    }
   ],
   "source": [
    "model = AnacondaQuantizedModelCache(\n",
    "    name=\"openhermes-2.5-mistral-7b\", quantization=\"q4_k_m\"\n",
    ")\n",
    "\n",
    "model.is_cached"
   ]
  },
  {
   "cell_type": "code",
   "execution_count": 3,
   "id": "0c76ab4f-8ef8-44f9-8ab4-b7e9773feec4",
   "metadata": {
    "execution": {
     "iopub.execute_input": "2025-01-06T16:23:02.774617Z",
     "iopub.status.busy": "2025-01-06T16:23:02.773598Z",
     "iopub.status.idle": "2025-01-06T16:23:04.090017Z",
     "shell.execute_reply": "2025-01-06T16:23:04.089723Z",
     "shell.execute_reply.started": "2025-01-06T16:23:02.774576Z"
    }
   },
   "outputs": [
    {
     "data": {
      "text/plain": [
       "AnacondaQuantizedModelService, {'url': 'http://127.0.0.1:51699', 'options': {'Process': <Popen: returncode: None args: ['/Users/adefusco/Development/anaconda/anacon...>, 'log_file': 'llama-cpp.OpenHermes-2.5-Mistral-7B_Q4_K_M.inference.log'}, 'metadata': {}}"
      ]
     },
     "execution_count": 3,
     "metadata": {},
     "output_type": "execute_result"
    }
   ],
   "source": [
    "service = model.start()\n",
    "service"
   ]
  },
  {
   "cell_type": "code",
   "execution_count": 4,
   "id": "8528b5b4-181d-439d-8718-e495a79284d2",
   "metadata": {
    "execution": {
     "iopub.execute_input": "2025-01-06T16:23:04.750310Z",
     "iopub.status.busy": "2025-01-06T16:23:04.749586Z",
     "iopub.status.idle": "2025-01-06T16:23:07.634007Z",
     "shell.execute_reply": "2025-01-06T16:23:07.633542Z",
     "shell.execute_reply.started": "2025-01-06T16:23:04.750270Z"
    }
   },
   "outputs": [],
   "source": [
    "messages = [{\"role\": \"user\", \"content\": \"what is pi?\"}]\n",
    "response = service.openai_client.chat.completions.create(\n",
    "    messages=messages, model=model.name\n",
    ")"
   ]
  },
  {
   "cell_type": "code",
   "execution_count": 5,
   "id": "53cf8246-d50d-4ce5-9a63-ec2488564d21",
   "metadata": {
    "execution": {
     "iopub.execute_input": "2025-01-06T16:23:07.635011Z",
     "iopub.status.busy": "2025-01-06T16:23:07.634860Z",
     "iopub.status.idle": "2025-01-06T16:23:07.637853Z",
     "shell.execute_reply": "2025-01-06T16:23:07.637597Z",
     "shell.execute_reply.started": "2025-01-06T16:23:07.634996Z"
    }
   },
   "outputs": [
    {
     "data": {
      "text/plain": [
       "\"Pi (π) is a mathematical constant that represents the ratio of a circle's circumference to its diameter. It is approximately equal to 3.14159. The value of pi is an irrational number, meaning it goes on infinitely without repeating. It is a fundamental constant used in various mathematical calculations, particularly in geometry and trigonometry.\""
      ]
     },
     "execution_count": 5,
     "metadata": {},
     "output_type": "execute_result"
    }
   ],
   "source": [
    "response.choices[0].message.content"
   ]
  },
  {
   "cell_type": "code",
   "execution_count": null,
   "id": "bee47c67-3cfa-44f0-9fca-0e3011beb973",
   "metadata": {},
   "outputs": [],
   "source": []
  }
 ],
 "metadata": {
  "kernelspec": {
   "display_name": "Python 3 (ipykernel)",
   "language": "python",
   "name": "python3"
  },
  "language_info": {
   "codemirror_mode": {
    "name": "ipython",
    "version": 3
   },
   "file_extension": ".py",
   "mimetype": "text/x-python",
   "name": "python",
   "nbconvert_exporter": "python",
   "pygments_lexer": "ipython3",
   "version": "3.10.16"
  }
 },
 "nbformat": 4,
 "nbformat_minor": 5
}
