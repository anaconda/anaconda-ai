{
 "cells": [
  {
   "cell_type": "code",
   "execution_count": 1,
   "metadata": {},
   "outputs": [],
   "source": [
    "from anaconda_ai.integrations.langchain import AnacondaQuantizedModelEmbeddings\n",
    "from anaconda_ai import get_default_client"
   ]
  },
  {
   "cell_type": "code",
   "execution_count": 2,
   "metadata": {},
   "outputs": [],
   "source": [
    "client = get_default_client()"
   ]
  },
  {
   "cell_type": "code",
   "execution_count": 3,
   "metadata": {},
   "outputs": [
    {
     "data": {
      "text/plain": [
       "[ModelSummary(id='BAAI/bge-large-en-v1.5', name='bge-large-en-v1.5', metadata=ModelMetadata(numParameters=334090000, contextWindowSize=512, trainedFor=<TrainedFor.sentence_similarity: 'sentence-similarity'>, description='', files=[ModelQuantization(id='f2488172ac43d2e77b5d11ee24b503fdc819b6d68ea6679b87b814a2c088be15', modelFileName='bge-large-en-v1.5_Q4_K_M.gguf', method='Q4_K_M', sizeBytes=215769504, maxRamUsage=215115366, isDownloaded=True, localPath=PosixPath('/Users/mehmetsarica/.ai-navigator-alpha/models/BAAI/bge-large-en-v1.5/bge-large-en-v1.5_Q4_K_M.gguf')), ModelQuantization(id='3a8bfb92402faa24979dbca75397311c7a472a29d780e4aa1667950acbe17684', modelFileName='bge-large-en-v1.5_Q5_K_M.gguf', method='Q5_K_M', sizeBytes=245653920, maxRamUsage=244999782, isDownloaded=False, localPath=None), ModelQuantization(id='81c26006c344352df7f1aac14cad7eb6b4143eba2967c0f7afb5a067535760be', modelFileName='bge-large-en-v1.5_Q6_K.gguf', method='Q6_K', sizeBytes=277406112, maxRamUsage=276761149, isDownloaded=False, localPath=None), ModelQuantization(id='12d2ee713569f820bc2908a61ebb1a1ace1974a16e46e1ee9f19cf2984864271', modelFileName='bge-large-en-v1.5_Q8_0.gguf', method='Q8_0', sizeBytes=358113728, maxRamUsage=357459558, isDownloaded=False, localPath=None)])),\n",
       " ModelSummary(id='BAAI/bge-small-en-v1.5', name='bge-small-en-v1.5', metadata=ModelMetadata(numParameters=33210000, contextWindowSize=512, trainedFor=<TrainedFor.sentence_similarity: 'sentence-similarity'>, description='', files=[ModelQuantization(id='a27afdbbd026b9cd9faf24db4d6dccd5d5011bed88c77a08b6b22fefcde2653c', modelFileName='bge-small-en-v1.5_Q4_K_M.gguf', method='Q4_K_M', sizeBytes=29081760, maxRamUsage=28447867, isDownloaded=True, localPath=PosixPath('/Users/mehmetsarica/.ai-navigator-alpha/models/BAAI/bge-small-en-v1.5/bge-small-en-v1.5_Q4_K_M.gguf')), ModelQuantization(id='d4b7e84bebffdb13b1d378549f0f7e40eb698fdff24bfe9410e176fd2b3b57cf', modelFileName='bge-small-en-v1.5_Q5_K_M.gguf', method='Q5_K_M', sizeBytes=30353568, maxRamUsage=29716644, isDownloaded=False, localPath=None)]))]"
      ]
     },
     "execution_count": 3,
     "metadata": {},
     "output_type": "execute_result"
    }
   ],
   "source": [
    "embedding_models = [ model for model in client.models.list() if model.metadata.trainedFor.value == \"sentence-similarity\" ]\n",
    "embedding_models"
   ]
  },
  {
   "cell_type": "code",
   "execution_count": 4,
   "metadata": {},
   "outputs": [
    {
     "data": {
      "application/vnd.jupyter.widget-view+json": {
       "model_id": "57e1e9818bbb435a922a8f553e020e45",
       "version_major": 2,
       "version_minor": 0
      },
      "text/plain": [
       "Output()"
      ]
     },
     "metadata": {},
     "output_type": "display_data"
    },
    {
     "data": {
      "text/html": [
       "<pre style=\"white-space:pre;overflow-x:auto;line-height:normal;font-family:Menlo,'DejaVu Sans Mono',consolas,'Courier New',monospace\"></pre>\n"
      ],
      "text/plain": []
     },
     "metadata": {},
     "output_type": "display_data"
    },
    {
     "data": {
      "text/html": [
       "<pre style=\"white-space:pre;overflow-x:auto;line-height:normal;font-family:Menlo,'DejaVu Sans Mono',consolas,'Courier New',monospace\"><span style=\"color: #008000; text-decoration-color: #008000; font-weight: bold\">✓</span> bge-small-en-v1.5_Q4_K_M.gguf (running)\n",
       "</pre>\n"
      ],
      "text/plain": [
       "\u001b[1;32m✓\u001b[0m bge-small-en-v1.5_Q4_K_M.gguf (running)\n"
      ]
     },
     "metadata": {},
     "output_type": "display_data"
    }
   ],
   "source": [
    "embeddings_model = AnacondaQuantizedModelEmbeddings(model_name=\"bge-small-en-v1.5_Q4_K_M.gguf\")"
   ]
  },
  {
   "cell_type": "code",
   "execution_count": null,
   "metadata": {},
   "outputs": [],
   "source": [
    "# embeddings_model.embed_query('test')"
   ]
  },
  {
   "cell_type": "code",
   "execution_count": 5,
   "metadata": {},
   "outputs": [
    {
     "data": {
      "text/plain": [
       "{'running': True,\n",
       " 'host': 'localhost',\n",
       " 'port': 5435,\n",
       " 'database': 'ai-navigator-vector-db',\n",
       " 'user': 'postgres',\n",
       " 'password': 'postgres'}"
      ]
     },
     "execution_count": 5,
     "metadata": {},
     "output_type": "execute_result"
    }
   ],
   "source": [
    "vectordb = client.vector_db.create()\n",
    "vectordb"
   ]
  },
  {
   "cell_type": "code",
   "execution_count": 6,
   "metadata": {},
   "outputs": [],
   "source": [
    "from langchain_postgres import PGVector\n",
    "\n",
    "host = vectordb['host']\n",
    "port = vectordb['port']\n",
    "database = vectordb['database']\n",
    "user = vectordb['user']\n",
    "password = vectordb['password']\n",
    "\n",
    "connection = f\"postgresql+psycopg://{user}:{password}@{host}:{port}/{database}\"\n",
    "collection_name = \"test_collection\"\n",
    "\n",
    "vector_store = PGVector(\n",
    "    embeddings=embeddings_model,\n",
    "    collection_name=collection_name,\n",
    "    connection=connection,\n",
    "    use_jsonb=True,\n",
    ")"
   ]
  },
  {
   "cell_type": "code",
   "execution_count": 7,
   "metadata": {},
   "outputs": [
    {
     "data": {
      "text/plain": [
       "[1, 2, 3, 4, 5, 6, 7, 8, 9, 10]"
      ]
     },
     "execution_count": 7,
     "metadata": {},
     "output_type": "execute_result"
    }
   ],
   "source": [
    "from langchain_core.documents import Document\n",
    "\n",
    "docs = [\n",
    "    Document(\n",
    "        page_content=\"wild birds gather at the lake\",\n",
    "        metadata={\"id\": 1, \"location\": \"lake\", \"topic\": \"wildlife\"},\n",
    "    ),\n",
    "    Document(\n",
    "        page_content=\"fish can be spotted swimming in the lake\",\n",
    "        metadata={\"id\": 2, \"location\": \"lake\", \"topic\": \"wildlife\"},\n",
    "    ),\n",
    "    Document(\n",
    "        page_content=\"fresh vegetables are sold at the farmers market\",\n",
    "        metadata={\"id\": 3, \"location\": \"farmers market\", \"topic\": \"groceries\"},\n",
    "    ),\n",
    "    Document(\n",
    "        page_content=\"the farmers market features local honey products\",\n",
    "        metadata={\"id\": 4, \"location\": \"farmers market\", \"topic\": \"groceries\"},\n",
    "    ),\n",
    "    Document(\n",
    "        page_content=\"the historical exhibit showcases ancient artifacts\",\n",
    "        metadata={\"id\": 5, \"location\": \"heritage center\", \"topic\": \"history\"},\n",
    "    ),\n",
    "    Document(\n",
    "        page_content=\"a photography display is featured at the heritage center\",\n",
    "        metadata={\"id\": 6, \"location\": \"heritage center\", \"topic\": \"history\"},\n",
    "    ),\n",
    "    Document(\n",
    "        page_content=\"a new bakery opened downtown on Park Avenue\",\n",
    "        metadata={\"id\": 7, \"location\": \"Park Avenue\", \"topic\": \"dining\"},\n",
    "    ),\n",
    "    Document(\n",
    "        page_content=\"the science club meets at the research center\",\n",
    "        metadata={\"id\": 8, \"location\": \"research center\", \"topic\": \"education\"},\n",
    "    ),\n",
    "    Document(\n",
    "        page_content=\"the research center hosts monthly astronomy nights\",\n",
    "        metadata={\"id\": 9, \"location\": \"research center\", \"topic\": \"education\"},\n",
    "    ),\n",
    "    Document(\n",
    "        page_content=\"a yoga class for seniors is available at the wellness pavilion\",\n",
    "        metadata={\"id\": 10, \"location\": \"wellness pavilion\", \"topic\": \"fitness\"},\n",
    "    ),\n",
    "]\n",
    "\n",
    "vector_store.add_documents(docs, ids=[doc.metadata[\"id\"] for doc in docs])"
   ]
  },
  {
   "cell_type": "code",
   "execution_count": 8,
   "metadata": {},
   "outputs": [
    {
     "name": "stdout",
     "output_type": "stream",
     "text": [
      "results [Document(id='2', metadata={'id': 2, 'topic': 'wildlife', 'location': 'lake'}, page_content='fish can be spotted swimming in the lake'), Document(id='1', metadata={'id': 1, 'topic': 'wildlife', 'location': 'lake'}, page_content='wild birds gather at the lake'), Document(id='5', metadata={'id': 5, 'topic': 'history', 'location': 'heritage center'}, page_content='the historical exhibit showcases ancient artifacts')]\n",
      "* fish can be spotted swimming in the lake [{'id': 2, 'topic': 'wildlife', 'location': 'lake'}]\n",
      "* wild birds gather at the lake [{'id': 1, 'topic': 'wildlife', 'location': 'lake'}]\n",
      "* the historical exhibit showcases ancient artifacts [{'id': 5, 'topic': 'history', 'location': 'heritage center'}]\n"
     ]
    }
   ],
   "source": [
    "results = vector_store.similarity_search(\"animal\", k=3)\n",
    "\n",
    "print('results', results)\n",
    "for doc in results:\n",
    "    print(f\"* {doc.page_content} [{doc.metadata}]\")"
   ]
  },
  {
   "cell_type": "code",
   "execution_count": null,
   "metadata": {},
   "outputs": [],
   "source": []
  }
 ],
 "metadata": {
  "kernelspec": {
   "display_name": "Python 3",
   "language": "python",
   "name": "python3"
  },
  "language_info": {
   "codemirror_mode": {
    "name": "ipython",
    "version": 3
   },
   "file_extension": ".py",
   "mimetype": "text/x-python",
   "name": "python",
   "nbconvert_exporter": "python",
   "pygments_lexer": "ipython3",
   "version": "3.9.21"
  }
 },
 "nbformat": 4,
 "nbformat_minor": 2
}
